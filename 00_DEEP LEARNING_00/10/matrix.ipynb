{
 "cells": [
  {
   "cell_type": "code",
   "execution_count": 1,
   "id": "95dd015a",
   "metadata": {},
   "outputs": [],
   "source": [
    "import numpy as np"
   ]
  },
  {
   "cell_type": "code",
   "execution_count": 7,
   "id": "2f2e3a98",
   "metadata": {},
   "outputs": [],
   "source": [
    "price_per_unit = np.array([2,3,4])"
   ]
  },
  {
   "cell_type": "code",
   "execution_count": 6,
   "id": "b5f8eb43",
   "metadata": {},
   "outputs": [],
   "source": [
    "units = np.array([[1000,200,3],\n",
    "                  [400,23,10],\n",
    "                  [90,198,20]])"
   ]
  },
  {
   "cell_type": "code",
   "execution_count": 9,
   "id": "3c13ac92",
   "metadata": {},
   "outputs": [
    {
     "data": {
      "text/plain": [
       "array([3560, 1261,  116])"
      ]
     },
     "execution_count": 9,
     "metadata": {},
     "output_type": "execute_result"
    }
   ],
   "source": [
    "revenue = np.dot(price_per_unit, units)\n",
    "revenue"
   ]
  },
  {
   "cell_type": "code",
   "execution_count": null,
   "id": "5608886b",
   "metadata": {},
   "outputs": [],
   "source": []
  }
 ],
 "metadata": {
  "kernelspec": {
   "display_name": "Python 3 (ipykernel)",
   "language": "python",
   "name": "python3"
  },
  "language_info": {
   "codemirror_mode": {
    "name": "ipython",
    "version": 3
   },
   "file_extension": ".py",
   "mimetype": "text/x-python",
   "name": "python",
   "nbconvert_exporter": "python",
   "pygments_lexer": "ipython3",
   "version": "3.10.6"
  }
 },
 "nbformat": 4,
 "nbformat_minor": 5
}
