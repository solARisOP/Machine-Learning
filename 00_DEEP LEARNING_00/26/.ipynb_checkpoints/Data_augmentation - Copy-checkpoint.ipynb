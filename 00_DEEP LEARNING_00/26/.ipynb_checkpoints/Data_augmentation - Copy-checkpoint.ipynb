{
 "cells": [
  {
   "cell_type": "code",
   "execution_count": null,
   "id": "48ebba31",
   "metadata": {
    "id": "48ebba31"
   },
   "outputs": [],
   "source": [
    "import pandas as pd\n",
    "import numpy as np\n",
    "import tensorflow as tf\n",
    "from tensorflow import keras\n",
    "import matplotlib.pyplot as plt\n",
    "import os\n",
    "import cv2\n",
    "import PIL\n",
    "\n",
    "%matplotlib inline"
   ]
  },
  {
   "cell_type": "code",
   "execution_count": null,
   "id": "08619914",
   "metadata": {
    "id": "08619914"
   },
   "outputs": [],
   "source": [
    "# tf.get_logger().setLevel('ERROR')"
   ]
  },
  {
   "cell_type": "code",
   "execution_count": null,
   "id": "6654b888",
   "metadata": {
    "colab": {
     "base_uri": "https://localhost:8080/"
    },
    "id": "6654b888",
    "outputId": "8a31bd88-57e3-403c-a0c7-47a580deac61"
   },
   "outputs": [],
   "source": [
    "dataset_url = \"https://storage.googleapis.com/download.tensorflow.org/example_images/flower_photos.tgz\"\n",
    "data_dir = tf.keras.utils.get_file('flower_photos', origin=dataset_url, cache_dir='.', untar = True)"
   ]
  },
  {
   "cell_type": "code",
   "execution_count": null,
   "id": "4b452e52",
   "metadata": {
    "colab": {
     "base_uri": "https://localhost:8080/",
     "height": 36
    },
    "id": "4b452e52",
    "outputId": "7abfd380-5e8e-477b-df64-ca55cfa2d59d"
   },
   "outputs": [],
   "source": [
    "data_dir"
   ]
  },
  {
   "cell_type": "code",
   "execution_count": null,
   "id": "b2fb9835",
   "metadata": {
    "colab": {
     "base_uri": "https://localhost:8080/"
    },
    "id": "b2fb9835",
    "outputId": "4dd67cad-2894-4c65-8a3e-db68674a9a7a"
   },
   "outputs": [],
   "source": [
    "import pathlib\n",
    "data_dir = pathlib.Path(data_dir)\n",
    "data_dir"
   ]
  },
  {
   "cell_type": "code",
   "execution_count": null,
   "id": "6d9ee7b0",
   "metadata": {
    "colab": {
     "base_uri": "https://localhost:8080/"
    },
    "id": "6d9ee7b0",
    "outputId": "d4ca027b-a1d6-41d9-c7a3-e6eac0b23d31"
   },
   "outputs": [],
   "source": [
    "image_count = len(list(data_dir.glob(\"*/*.jpg\"))) # glob is use for file path searching\n",
    "image_count"
   ]
  },
  {
   "cell_type": "code",
   "execution_count": null,
   "id": "61f6d8ef",
   "metadata": {
    "colab": {
     "base_uri": "https://localhost:8080/"
    },
    "id": "61f6d8ef",
    "outputId": "518effa6-6fdb-4bab-8c40-c3ba20636a40",
    "scrolled": true
   },
   "outputs": [],
   "source": [
    "roses = list(data_dir.glob('roses/*'))\n",
    "roses"
   ]
  },
  {
   "cell_type": "code",
   "execution_count": null,
   "id": "cdc35307",
   "metadata": {
    "colab": {
     "base_uri": "https://localhost:8080/",
     "height": 230
    },
    "id": "cdc35307",
    "outputId": "902c823c-4c83-46cf-d5c1-4ba03782d90f"
   },
   "outputs": [],
   "source": [
    "PIL.Image.open(roses[1])"
   ]
  },
  {
   "cell_type": "code",
   "execution_count": null,
   "id": "8cf556e6",
   "metadata": {
    "colab": {
     "base_uri": "https://localhost:8080/"
    },
    "id": "8cf556e6",
    "outputId": "a7361698-6217-4684-fcf0-f6ab1c3401fb"
   },
   "outputs": [],
   "source": [
    "daisy = list(data_dir.glob('daisy/*'))\n",
    "daisy"
   ]
  },
  {
   "cell_type": "code",
   "execution_count": null,
   "id": "a031713d",
   "metadata": {
    "colab": {
     "base_uri": "https://localhost:8080/"
    },
    "id": "a031713d",
    "outputId": "0831a088-24e6-4153-a458-ef9f8192101b"
   },
   "outputs": [],
   "source": [
    "dandelion = list(data_dir.glob('dandelion/*'))\n",
    "dandelion"
   ]
  },
  {
   "cell_type": "code",
   "execution_count": null,
   "id": "518d5027",
   "metadata": {
    "colab": {
     "base_uri": "https://localhost:8080/"
    },
    "id": "518d5027",
    "outputId": "3a7feca0-0466-4664-c82d-5bda9968e341",
    "scrolled": true
   },
   "outputs": [],
   "source": [
    "sunflowers = list(data_dir.glob('sunflowers/*'))\n",
    "sunflowers"
   ]
  },
  {
   "cell_type": "code",
   "execution_count": null,
   "id": "6b6be081",
   "metadata": {
    "colab": {
     "base_uri": "https://localhost:8080/"
    },
    "id": "6b6be081",
    "outputId": "97ed2658-5337-4da7-c7ed-f5628cea35cd",
    "scrolled": true
   },
   "outputs": [],
   "source": [
    "tulips = list(data_dir.glob('tulips/*'))\n",
    "tulips"
   ]
  },
  {
   "cell_type": "code",
   "execution_count": null,
   "id": "a8a65ba6",
   "metadata": {
    "colab": {
     "base_uri": "https://localhost:8080/",
     "height": 350
    },
    "id": "a8a65ba6",
    "outputId": "bae089fb-5dc4-4e17-f65b-4b53fa459e6f"
   },
   "outputs": [],
   "source": [
    "PIL.Image.open(sunflowers[10])"
   ]
  },
  {
   "cell_type": "code",
   "execution_count": null,
   "id": "5215eb27",
   "metadata": {
    "id": "5215eb27"
   },
   "outputs": [],
   "source": [
    "flowers_images_dict = {\n",
    "    'roses' : roses,\n",
    "    'daisy' : daisy,\n",
    "    'dandelion' : dandelion,\n",
    "    'sunflowers' : sunflowers,\n",
    "    'tulip' : tulips\n",
    "}"
   ]
  },
  {
   "cell_type": "code",
   "execution_count": null,
   "id": "29eeceb5",
   "metadata": {
    "id": "29eeceb5"
   },
   "outputs": [],
   "source": [
    "flowers_labels_dict = {\n",
    "    'roses' : 0,\n",
    "    'daisy' : 1,\n",
    "    'dandelion' : 2,\n",
    "    'sunflowers' : 3,\n",
    "    'tulip' : 4\n",
    "}"
   ]
  },
  {
   "cell_type": "code",
   "execution_count": null,
   "id": "20ea2aa0",
   "metadata": {
    "colab": {
     "base_uri": "https://localhost:8080/"
    },
    "id": "20ea2aa0",
    "outputId": "0093b414-998c-4516-cfaa-c6ffb4cb0c00",
    "scrolled": true
   },
   "outputs": [],
   "source": [
    "img = cv2.imread(str(flowers_images_dict['roses'][0]))\n",
    "img"
   ]
  },
  {
   "cell_type": "code",
   "execution_count": null,
   "id": "031fe3df",
   "metadata": {
    "colab": {
     "base_uri": "https://localhost:8080/"
    },
    "id": "031fe3df",
    "outputId": "f6ddcdc6-ab88-4ed8-ba60-c1042575c2db"
   },
   "outputs": [],
   "source": [
    "img = cv2.resize(img, (180, 180))\n",
    "img.shape"
   ]
  },
  {
   "cell_type": "code",
   "execution_count": null,
   "id": "9349cbee",
   "metadata": {
    "id": "9349cbee"
   },
   "outputs": [],
   "source": [
    "X, y = [], []\n",
    "\n",
    "for flower_name, images in flowers_images_dict.items():\n",
    "    for image in images:\n",
    "        img = cv2.imread(str(image))\n",
    "        resized_img = cv2.resize(img,(180,180))\n",
    "        X.append(resized_img)\n",
    "        y.append(flowers_labels_dict[flower_name])"
   ]
  },
  {
   "cell_type": "code",
   "execution_count": null,
   "id": "1d903683",
   "metadata": {
    "colab": {
     "base_uri": "https://localhost:8080/"
    },
    "id": "1d903683",
    "outputId": "94dbd186-e5ea-4e0d-d847-1ebd5010b292",
    "scrolled": false
   },
   "outputs": [],
   "source": [
    "y[:5]"
   ]
  },
  {
   "cell_type": "code",
   "execution_count": null,
   "id": "73b9bc51",
   "metadata": {
    "id": "73b9bc51"
   },
   "outputs": [],
   "source": [
    "X = np.array(X)\n",
    "y = np.array(y)"
   ]
  },
  {
   "cell_type": "code",
   "execution_count": null,
   "id": "0bedd3d3",
   "metadata": {
    "id": "0bedd3d3"
   },
   "outputs": [],
   "source": [
    "from sklearn.model_selection import train_test_split as tts\n",
    "X_train, X_test, y_train, y_test = tts(X, y, random_state=0)"
   ]
  },
  {
   "cell_type": "code",
   "execution_count": null,
   "id": "734feb80",
   "metadata": {
    "id": "734feb80"
   },
   "outputs": [],
   "source": [
    "X_train_scaled = X_train/255\n",
    "X_test_scaled = X_test/255"
   ]
  },
  {
   "cell_type": "code",
   "execution_count": null,
   "id": "cc670fe8",
   "metadata": {
    "colab": {
     "base_uri": "https://localhost:8080/"
    },
    "id": "cc670fe8",
    "outputId": "132047e9-d8f0-4229-b617-d924d32fe376",
    "scrolled": true
   },
   "outputs": [],
   "source": [
    "X_train_scaled.shape"
   ]
  },
  {
   "cell_type": "code",
   "execution_count": null,
   "id": "5c15559a",
   "metadata": {
    "colab": {
     "base_uri": "https://localhost:8080/"
    },
    "id": "5c15559a",
    "outputId": "a478e7b6-419e-4291-a9d3-1afae5405e69"
   },
   "outputs": [],
   "source": [
    "y_train[0]"
   ]
  },
  {
   "cell_type": "code",
   "execution_count": null,
   "id": "bf931681",
   "metadata": {
    "colab": {
     "base_uri": "https://localhost:8080/"
    },
    "id": "bf931681",
    "outputId": "126105a2-b6b9-44c6-d46a-a6d3ed139114",
    "scrolled": true
   },
   "outputs": [],
   "source": [
    "model = keras.Sequential([\n",
    "    keras.layers.Conv2D(16, 3, padding= 'same', activation='relu'), # CNN automatically detects the shape\n",
    "    keras.layers.MaxPooling2D(),\n",
    "    keras.layers.Conv2D(32, 3, padding= 'same', activation='relu'),\n",
    "    keras.layers.MaxPooling2D(),\n",
    "    keras.layers.Conv2D(64, 3, padding= 'same', activation='relu'),\n",
    "    keras.layers.MaxPooling2D(),\n",
    "    \n",
    "    keras.layers.Flatten(),\n",
    "    keras.layers.Dense(128, activation = 'relu'),\n",
    "    keras.layers.Dense(5) # in the output layer we are not specifying any output function so it will consider it as linear function\n",
    "])\n",
    "\n",
    "model.compile(optimizer = 'adam',\n",
    "             loss = tf.keras.losses.SparseCategoricalCrossentropy(from_logits=True),\n",
    "             metrics = ['accuracy'])\n",
    "\n",
    "model.fit(X_train_scaled, y_train, epochs = 30)"
   ]
  },
  {
   "cell_type": "code",
   "execution_count": null,
   "id": "9822e773",
   "metadata": {
    "colab": {
     "base_uri": "https://localhost:8080/"
    },
    "id": "9822e773",
    "outputId": "c0e0b8fb-cb7c-484a-f765-3d8a568be820"
   },
   "outputs": [],
   "source": [
    "model.evaluate(X_test_scaled, y_test)"
   ]
  },
  {
   "cell_type": "code",
   "execution_count": null,
   "id": "1922fbc1",
   "metadata": {
    "colab": {
     "base_uri": "https://localhost:8080/"
    },
    "id": "1922fbc1",
    "outputId": "1fd6083d-8392-4abd-d0a7-236aba049958"
   },
   "outputs": [],
   "source": [
    "predictions = model.predict(X_test_scaled)"
   ]
  },
  {
   "cell_type": "code",
   "execution_count": null,
   "id": "8f0e71e4",
   "metadata": {
    "colab": {
     "base_uri": "https://localhost:8080/"
    },
    "id": "8f0e71e4",
    "outputId": "5176c66d-3084-4118-cdf4-105370e8a0f3"
   },
   "outputs": [],
   "source": [
    "score = tf.nn.softmax(predictions[0]) # it gives us the probability\n",
    "score"
   ]
  },
  {
   "cell_type": "code",
   "execution_count": null,
   "id": "047ed23d",
   "metadata": {
    "colab": {
     "base_uri": "https://localhost:8080/"
    },
    "id": "047ed23d",
    "outputId": "555c8e24-7e83-4996-ad22-c2dc0f6cfd68"
   },
   "outputs": [],
   "source": [
    "np.argmax(score)"
   ]
  },
  {
   "cell_type": "code",
   "execution_count": null,
   "id": "e3935444",
   "metadata": {
    "colab": {
     "base_uri": "https://localhost:8080/"
    },
    "id": "e3935444",
    "outputId": "fabf71bd-a316-42df-a262-511ae1097e86"
   },
   "outputs": [],
   "source": [
    "y_test[0]"
   ]
  },
  {
   "cell_type": "code",
   "execution_count": null,
   "id": "f03c80f5",
   "metadata": {
    "id": "f03c80f5"
   },
   "outputs": [],
   "source": [
    "data_augmentation = keras.Sequential( # this will generate new images\n",
    "  [\n",
    "    keras.layers.experimental.preprocessing.RandomFlip(\"horizontal\",  # this will flip the image \n",
    "                                                 input_shape=(180, \n",
    "                                                              180,\n",
    "                                                              3)),\n",
    "    keras.layers.experimental.preprocessing.RandomRotation(0.1), # this will rotate the image\n",
    "    keras.layers.experimental.preprocessing.RandomZoom(0.1), # this will zoom the image\n",
    "  ]\n",
    ")"
   ]
  },
  {
   "cell_type": "code",
   "execution_count": null,
   "id": "4f0119f3",
   "metadata": {
    "colab": {
     "base_uri": "https://localhost:8080/",
     "height": 286
    },
    "id": "4f0119f3",
    "outputId": "4cdb5cbd-311e-46a4-be2e-f8334c838452"
   },
   "outputs": [],
   "source": [
    "plt.imshow(X[0])"
   ]
  },
  {
   "cell_type": "code",
   "execution_count": null,
   "id": "c8098c4b",
   "metadata": {
    "colab": {
     "base_uri": "https://localhost:8080/"
    },
    "id": "c8098c4b",
    "outputId": "8651133d-7e9b-41d2-a4c5-2c1c21926637"
   },
   "outputs": [],
   "source": [
    "data_augmentation(X)"
   ]
  },
  {
   "cell_type": "code",
   "execution_count": null,
   "id": "f909cdc1",
   "metadata": {
    "colab": {
     "base_uri": "https://localhost:8080/",
     "height": 286
    },
    "id": "f909cdc1",
    "outputId": "602d3bb3-0ea0-48bc-df96-01a2770ec966",
    "scrolled": false
   },
   "outputs": [],
   "source": [
    "plt.imshow(data_augmentation(X)[1].numpy().astype('uint8'))"
   ]
  },
  {
   "cell_type": "code",
   "execution_count": null,
   "id": "68d41bb2",
   "metadata": {
    "colab": {
     "base_uri": "https://localhost:8080/"
    },
    "id": "68d41bb2",
    "outputId": "e9049885-6012-44bc-8629-9dbdc9c2d212",
    "scrolled": true
   },
   "outputs": [],
   "source": [
    "model = keras.Sequential([\n",
    "    data_augmentation,\n",
    "    keras.layers.Conv2D(16, 3, padding= 'same', activation='relu'), # CNN automatically detects the shape\n",
    "    keras.layers.MaxPooling2D(),\n",
    "    keras.layers.Conv2D(32, 3, padding= 'same', activation='relu'),\n",
    "    keras.layers.MaxPooling2D(),\n",
    "    keras.layers.Conv2D(64, 3, padding= 'same', activation='relu'),\n",
    "    keras.layers.MaxPooling2D(),\n",
    "    keras.layers.Dropout(0.2),\n",
    "    keras.layers.Flatten(),\n",
    "    keras.layers.Dense(128, activation = 'relu'),\n",
    "    keras.layers.Dense(5) # in the output layer we are not specifying any output function so it will consider it as linear function\n",
    "])\n",
    "\n",
    "model.compile(optimizer = 'adam',\n",
    "             loss = tf.keras.losses.SparseCategoricalCrossentropy(from_logits=True),\n",
    "             metrics = ['accuracy'])\n",
    "\n",
    "model.fit(X_train_scaled, y_train, epochs = 30)"
   ]
  },
  {
   "cell_type": "code",
   "execution_count": null,
   "id": "754d4a0b",
   "metadata": {
    "colab": {
     "base_uri": "https://localhost:8080/"
    },
    "id": "754d4a0b",
    "outputId": "8d5f8230-7141-4fdf-9e1b-e5bd0618c5cb"
   },
   "outputs": [],
   "source": [
    "model.evaluate(X_test_scaled, y_test)"
   ]
  },
  {
   "cell_type": "code",
   "execution_count": null,
   "id": "0437fbaa",
   "metadata": {
    "colab": {
     "base_uri": "https://localhost:8080/"
    },
    "id": "0437fbaa",
    "outputId": "c8bda9c5-96bd-452f-d9ce-f96334683758"
   },
   "outputs": [],
   "source": [
    "tf.config.experimental.list_physical_devices()"
   ]
  },
  {
   "cell_type": "code",
   "execution_count": null,
   "id": "CsUgETilLeEU",
   "metadata": {
    "colab": {
     "base_uri": "https://localhost:8080/"
    },
    "id": "CsUgETilLeEU",
    "outputId": "8cf92cc7-2076-48d8-b817-515446205a03"
   },
   "outputs": [],
   "source": [
    "tf.test.is_built_with_cuda()"
   ]
  },
  {
   "cell_type": "code",
   "execution_count": null,
   "id": "4pYH8fawLmTJ",
   "metadata": {
    "id": "4pYH8fawLmTJ"
   },
   "outputs": [],
   "source": []
  }
 ],
 "metadata": {
  "accelerator": "GPU",
  "colab": {
   "provenance": []
  },
  "gpuClass": "standard",
  "kernelspec": {
   "display_name": "Python 3 (ipykernel)",
   "language": "python",
   "name": "python3"
  },
  "language_info": {
   "codemirror_mode": {
    "name": "ipython",
    "version": 3
   },
   "file_extension": ".py",
   "mimetype": "text/x-python",
   "name": "python",
   "nbconvert_exporter": "python",
   "pygments_lexer": "ipython3",
   "version": "3.10.6"
  }
 },
 "nbformat": 4,
 "nbformat_minor": 5
}
