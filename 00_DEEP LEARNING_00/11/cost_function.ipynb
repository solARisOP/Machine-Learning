{
 "cells": [
  {
   "cell_type": "code",
   "execution_count": 1,
   "id": "74872544",
   "metadata": {},
   "outputs": [],
   "source": [
    "import numpy as np"
   ]
  },
  {
   "cell_type": "code",
   "execution_count": 2,
   "id": "71e317e1",
   "metadata": {},
   "outputs": [],
   "source": [
    "y_true = np.array([1,0,1,0,0])\n",
    "y_pre = np.array([0.3, 0.1, 0.1, 0.78, 0.9])"
   ]
  },
  {
   "cell_type": "code",
   "execution_count": 3,
   "id": "578f2be5",
   "metadata": {},
   "outputs": [],
   "source": [
    "def mae(y_true, y_pre):\n",
    "    total_error = 0\n",
    "    for yt, yp in zip(y_true, y_pre):\n",
    "        total_error += abs(yt - yp)\n",
    "    print(\"Total error : \", total_error)\n",
    "    return total_error/len(y_true)"
   ]
  },
  {
   "cell_type": "code",
   "execution_count": 4,
   "id": "7f9bc729",
   "metadata": {},
   "outputs": [
    {
     "name": "stdout",
     "output_type": "stream",
     "text": [
      "Total error :  3.38\n",
      "MAE : 0.6759999999999999\n"
     ]
    }
   ],
   "source": [
    "print(\"MAE :\", mae(y_true, y_pre))"
   ]
  },
  {
   "cell_type": "code",
   "execution_count": 5,
   "id": "a5cffee1",
   "metadata": {},
   "outputs": [
    {
     "data": {
      "text/plain": [
       "3.38"
      ]
     },
     "execution_count": 5,
     "metadata": {},
     "output_type": "execute_result"
    }
   ],
   "source": [
    "np.sum(np.abs(y_true - y_pre)) # total error"
   ]
  },
  {
   "cell_type": "code",
   "execution_count": 6,
   "id": "a237061c",
   "metadata": {},
   "outputs": [
    {
     "data": {
      "text/plain": [
       "0.6759999999999999"
      ]
     },
     "execution_count": 6,
     "metadata": {},
     "output_type": "execute_result"
    }
   ],
   "source": [
    "np.mean(np.abs(y_true - y_pre)) # mean absolute error"
   ]
  },
  {
   "cell_type": "code",
   "execution_count": 7,
   "id": "1826374f",
   "metadata": {},
   "outputs": [
    {
     "name": "stderr",
     "output_type": "stream",
     "text": [
      "C:\\Users\\nitis\\AppData\\Local\\Temp\\ipykernel_18676\\262464415.py:1: RuntimeWarning: divide by zero encountered in log\n",
      "  np.log([0])\n"
     ]
    },
    {
     "data": {
      "text/plain": [
       "array([-inf])"
      ]
     },
     "execution_count": 7,
     "metadata": {},
     "output_type": "execute_result"
    }
   ],
   "source": [
    "np.log([0])"
   ]
  },
  {
   "cell_type": "markdown",
   "id": "c19b1751",
   "metadata": {},
   "source": [
    "## log(0) is is not defined so we change 0 to value closest to 0 and 1 to value closest to 1 "
   ]
  },
  {
   "cell_type": "code",
   "execution_count": 8,
   "id": "43cec3aa",
   "metadata": {},
   "outputs": [
    {
     "data": {
      "text/plain": [
       "1e-15"
      ]
     },
     "execution_count": 8,
     "metadata": {},
     "output_type": "execute_result"
    }
   ],
   "source": [
    "epsilon = 1e-15\n",
    "epsilon"
   ]
  },
  {
   "cell_type": "code",
   "execution_count": 9,
   "id": "d2903c89",
   "metadata": {},
   "outputs": [
    {
     "data": {
      "text/plain": [
       "[1, 1e-15, 1, 1e-15, 1e-15]"
      ]
     },
     "execution_count": 9,
     "metadata": {},
     "output_type": "execute_result"
    }
   ],
   "source": [
    "y_true_new  = [max(i, epsilon) for i in y_true]\n",
    "y_true_new"
   ]
  },
  {
   "cell_type": "code",
   "execution_count": 14,
   "id": "b9d98d0e",
   "metadata": {},
   "outputs": [
    {
     "data": {
      "text/plain": [
       "[0.999999999999999, 1e-15, 0.999999999999999, 1e-15, 1e-15]"
      ]
     },
     "execution_count": 14,
     "metadata": {},
     "output_type": "execute_result"
    }
   ],
   "source": [
    "y_true_new  = [min(i, 1-epsilon) for i in y_true_new]\n",
    "y_true_new"
   ]
  },
  {
   "cell_type": "code",
   "execution_count": 16,
   "id": "8e2a27af",
   "metadata": {},
   "outputs": [
    {
     "data": {
      "text/plain": [
       "array([-9.99200722e-16, -3.45387764e+01, -9.99200722e-16, -3.45387764e+01,\n",
       "       -3.45387764e+01])"
      ]
     },
     "execution_count": 16,
     "metadata": {},
     "output_type": "execute_result"
    }
   ],
   "source": [
    "y_true_new = np.array(y_true_new)\n",
    "np.log(y_true_new)"
   ]
  },
  {
   "cell_type": "code",
   "execution_count": 17,
   "id": "278f0b78",
   "metadata": {},
   "outputs": [
    {
     "data": {
      "text/plain": [
       "1.485726247720325"
      ]
     },
     "execution_count": 17,
     "metadata": {},
     "output_type": "execute_result"
    }
   ],
   "source": [
    "-np.mean((y_true_new*np.log(y_pre) + (1-y_true_new)* np.log(1-y_pre)))"
   ]
  },
  {
   "cell_type": "code",
   "execution_count": 24,
   "id": "e006c953",
   "metadata": {},
   "outputs": [
    {
     "data": {
      "text/plain": [
       "1.485726247720325"
      ]
     },
     "execution_count": 24,
     "metadata": {},
     "output_type": "execute_result"
    }
   ],
   "source": [
    "def log_loss(y_true, y_pre):\n",
    "    epsilon = 1e-15\n",
    "    y_true_new  = [max(i, epsilon) for i in y_true]\n",
    "    y_true_new  = [min(i, 1-epsilon) for i in y_true_new]\n",
    "    y_true_new = np.array(y_true_new)\n",
    "    return -np.mean((y_true_new*np.log(y_pre) + (1-y_true_new)* np.log(1-y_pre)))\n",
    "log_loss(y_true, y_pre)"
   ]
  },
  {
   "cell_type": "code",
   "execution_count": null,
   "id": "45b07cba",
   "metadata": {},
   "outputs": [],
   "source": []
  }
 ],
 "metadata": {
  "kernelspec": {
   "display_name": "Python 3 (ipykernel)",
   "language": "python",
   "name": "python3"
  },
  "language_info": {
   "codemirror_mode": {
    "name": "ipython",
    "version": 3
   },
   "file_extension": ".py",
   "mimetype": "text/x-python",
   "name": "python",
   "nbconvert_exporter": "python",
   "pygments_lexer": "ipython3",
   "version": "3.10.6"
  }
 },
 "nbformat": 4,
 "nbformat_minor": 5
}
