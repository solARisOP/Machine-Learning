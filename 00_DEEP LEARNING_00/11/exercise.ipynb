{
 "cells": [
  {
   "cell_type": "code",
   "execution_count": 1,
   "id": "5990f89a",
   "metadata": {},
   "outputs": [],
   "source": [
    "import numpy as np"
   ]
  },
  {
   "cell_type": "code",
   "execution_count": 2,
   "id": "0f572389",
   "metadata": {},
   "outputs": [],
   "source": [
    "y_true = np.array([1,0,1,0,0])\n",
    "y_pre = np.array([0.3, 0.1, 0.1, 0.78, 0.9])"
   ]
  },
  {
   "cell_type": "code",
   "execution_count": 5,
   "id": "ec83b9a4",
   "metadata": {},
   "outputs": [],
   "source": [
    "def mse(y_true, y_pre):\n",
    "    total_error = 0\n",
    "    for yt, yp in zip(y_true, y_pre):\n",
    "        total_error += ((yt - yp)* (yt-yp))\n",
    "    print(\"mse : \", total_error/len(y_true))"
   ]
  },
  {
   "cell_type": "code",
   "execution_count": 6,
   "id": "c43d6df3",
   "metadata": {},
   "outputs": [
    {
     "name": "stdout",
     "output_type": "stream",
     "text": [
      "mse :  0.54568\n"
     ]
    }
   ],
   "source": [
    "mse(y_true, y_pre)"
   ]
  },
  {
   "cell_type": "code",
   "execution_count": 8,
   "id": "8f216f2e",
   "metadata": {},
   "outputs": [
    {
     "data": {
      "text/plain": [
       "0.54568"
      ]
     },
     "execution_count": 8,
     "metadata": {},
     "output_type": "execute_result"
    }
   ],
   "source": [
    "np.mean(np.square(y_true- y_pre)) "
   ]
  },
  {
   "cell_type": "code",
   "execution_count": null,
   "id": "d069fb09",
   "metadata": {},
   "outputs": [],
   "source": []
  }
 ],
 "metadata": {
  "kernelspec": {
   "display_name": "Python 3 (ipykernel)",
   "language": "python",
   "name": "python3"
  },
  "language_info": {
   "codemirror_mode": {
    "name": "ipython",
    "version": 3
   },
   "file_extension": ".py",
   "mimetype": "text/x-python",
   "name": "python",
   "nbconvert_exporter": "python",
   "pygments_lexer": "ipython3",
   "version": "3.10.6"
  }
 },
 "nbformat": 4,
 "nbformat_minor": 5
}
