{
 "cells": [
  {
   "cell_type": "code",
   "execution_count": null,
   "id": "6619b6f2",
   "metadata": {},
   "outputs": [],
   "source": [
    "import pandas as pd\n",
    "import numpy as np\n",
    "import tensorflow as tf\n",
    "from tensorflow import keras\n",
    "import matplotlib.pyplot as plt\n",
    "%matplotlib inline"
   ]
  },
  {
   "cell_type": "code",
   "execution_count": null,
   "id": "cac82330",
   "metadata": {},
   "outputs": [],
   "source": [
    "(X_train,y_train), (X_test, y_test) = keras.datasets.mnist.load_data() # we are loading a keras dataset "
   ]
  },
  {
   "cell_type": "code",
   "execution_count": null,
   "id": "fa3107d6",
   "metadata": {},
   "outputs": [],
   "source": [
    "X_train.shape"
   ]
  },
  {
   "cell_type": "code",
   "execution_count": null,
   "id": "a68f0bd2",
   "metadata": {},
   "outputs": [],
   "source": [
    "len(X_train)"
   ]
  },
  {
   "cell_type": "code",
   "execution_count": null,
   "id": "7a63581c",
   "metadata": {
    "scrolled": true
   },
   "outputs": [],
   "source": [
    "X_train[0]"
   ]
  },
  {
   "cell_type": "code",
   "execution_count": null,
   "id": "7933615d",
   "metadata": {},
   "outputs": [],
   "source": [
    "X_train[0].shape"
   ]
  },
  {
   "cell_type": "code",
   "execution_count": null,
   "id": "85cee835",
   "metadata": {
    "scrolled": false
   },
   "outputs": [],
   "source": [
    "plt.matshow(X_train[0])"
   ]
  },
  {
   "cell_type": "code",
   "execution_count": null,
   "id": "c5d50a4a",
   "metadata": {},
   "outputs": [],
   "source": [
    "X_train = X_train/255 # scalling our dataset to put all values b/w 0 and 1, we divide it with 255 because our highest value of each pixel or feature is 255\n",
    "X_test = X_test/255"
   ]
  },
  {
   "cell_type": "code",
   "execution_count": null,
   "id": "6bf6d770",
   "metadata": {},
   "outputs": [],
   "source": [
    "X_train_flatten = X_train.reshape(len(X_train), (28*28)) # reshapping the grid of 28 x 28 to a single array of 784"
   ]
  },
  {
   "cell_type": "code",
   "execution_count": null,
   "id": "b4b9bacb",
   "metadata": {},
   "outputs": [],
   "source": [
    "X_train_flatten"
   ]
  },
  {
   "cell_type": "code",
   "execution_count": null,
   "id": "efae58bd",
   "metadata": {},
   "outputs": [],
   "source": [
    "X_test_flatten = X_test.reshape(len(X_test), (28*28))"
   ]
  },
  {
   "cell_type": "code",
   "execution_count": null,
   "id": "743cb919",
   "metadata": {},
   "outputs": [],
   "source": [
    "y_test[:5]"
   ]
  },
  {
   "cell_type": "code",
   "execution_count": null,
   "id": "a8f13608",
   "metadata": {},
   "outputs": [],
   "source": [
    "y_train[:5]"
   ]
  },
  {
   "cell_type": "code",
   "execution_count": null,
   "id": "fff48984",
   "metadata": {},
   "outputs": [],
   "source": [
    "X_train_flatten.shape"
   ]
  },
  {
   "cell_type": "code",
   "execution_count": null,
   "id": "f664e42c",
   "metadata": {
    "scrolled": false
   },
   "outputs": [],
   "source": [
    "X_test_flatten[0]"
   ]
  },
  {
   "cell_type": "code",
   "execution_count": null,
   "id": "7a3ab93a",
   "metadata": {},
   "outputs": [],
   "source": [
    "model = keras.Sequential([\n",
    "    keras.layers.Dense(10, input_shape = (784,), activation = 'sigmoid') # neural network layers - output layer of 10 neurons because we have 10 classes to divide b/w 0-9(in short words our ans lies b/w 0-9 numbers) and input laayer of 786 because each digit has 786 features\n",
    "    # the activation fuction is nothing but which function to use of the model building\n",
    "])\n",
    "\n",
    "model.compile( # we have to compile our neural network models before fitting it through data\n",
    "    optimizer = 'adam',\n",
    "    loss = 'sparse_categorical_crossentropy',\n",
    "    metrics = ['accuracy']\n",
    ")\n",
    "model.fit(X_train_flatten, y_train, epochs= 5) # epochs here are number of iterations we wanna perform"
   ]
  },
  {
   "cell_type": "code",
   "execution_count": null,
   "id": "31ca9387",
   "metadata": {},
   "outputs": [],
   "source": [
    "model.evaluate(X_test_flatten, y_test) # predicitng the score of our model through test data"
   ]
  },
  {
   "cell_type": "code",
   "execution_count": null,
   "id": "bb0409c1",
   "metadata": {},
   "outputs": [],
   "source": [
    "model.predict(X_test_flatten)"
   ]
  },
  {
   "cell_type": "code",
   "execution_count": null,
   "id": "8889d1e3",
   "metadata": {},
   "outputs": [],
   "source": [
    "model.predict(X_test_flatten[0])"
   ]
  },
  {
   "cell_type": "code",
   "execution_count": null,
   "id": "be8e6e87",
   "metadata": {},
   "outputs": [],
   "source": [
    "y_predicted = model.predict(X_test_flatten)"
   ]
  },
  {
   "cell_type": "code",
   "execution_count": null,
   "id": "74831d4b",
   "metadata": {},
   "outputs": [],
   "source": [
    "y_predicted[0] # this gives us ten values the ten values belong to all ten output neuron we made which every neuron holds the higher value that is the answer"
   ]
  },
  {
   "cell_type": "code",
   "execution_count": null,
   "id": "667177de",
   "metadata": {},
   "outputs": [],
   "source": [
    "np.argmax(y_predicted[0])"
   ]
  },
  {
   "cell_type": "code",
   "execution_count": null,
   "id": "6e98750a",
   "metadata": {},
   "outputs": [],
   "source": [
    "plt.matshow(X_test[0])"
   ]
  },
  {
   "cell_type": "code",
   "execution_count": null,
   "id": "059b70f5",
   "metadata": {},
   "outputs": [],
   "source": [
    "y_predicted_labels = [np.argmax(i) for i in y_predicted]\n",
    "y_predicted_labels[:5]"
   ]
  },
  {
   "cell_type": "code",
   "execution_count": null,
   "id": "67f0b55b",
   "metadata": {},
   "outputs": [],
   "source": [
    "cm = tf.math.confusion_matrix(labels=y_test, predictions=y_predicted_labels)\n",
    "cm"
   ]
  },
  {
   "cell_type": "code",
   "execution_count": null,
   "id": "c4561d44",
   "metadata": {},
   "outputs": [],
   "source": [
    "import seaborn as sn\n",
    "plt.figure(figsize=(10,7))\n",
    "sn.heatmap(cm, annot = True, fmt = 'd')\n",
    "plt.xlabel('predicted')\n",
    "plt.ylabel('truth')\n"
   ]
  },
  {
   "cell_type": "code",
   "execution_count": null,
   "id": "a6c6f2e8",
   "metadata": {},
   "outputs": [],
   "source": [
    "model = keras.Sequential([\n",
    "    keras.layers.Dense(100, input_shape = (784,), activation = 'relu'), # adding a hidden layer of 100 neurons in between input and output layer\n",
    "    keras.layers.Dense(10, activation = 'sigmoid')\n",
    "])\n",
    "\n",
    "model.compile(\n",
    "    optimizer = 'adam',\n",
    "    loss = 'sparse_categorical_crossentropy',\n",
    "    metrics = ['accuracy']\n",
    ")\n",
    "model.fit(X_train_flatten, y_train, epochs= 5)"
   ]
  },
  {
   "cell_type": "code",
   "execution_count": null,
   "id": "5d28a6fe",
   "metadata": {},
   "outputs": [],
   "source": [
    "model.evaluate(X_test_flatten, y_test)"
   ]
  },
  {
   "cell_type": "code",
   "execution_count": null,
   "id": "e288206b",
   "metadata": {},
   "outputs": [],
   "source": [
    "y_predicted = model.predict(X_test_flatten)\n",
    "y_predicted_labels = [np.argmax(i) for i in y_predicted]\n",
    "cm = tf.math.confusion_matrix(labels=y_test, predictions=y_predicted_labels)\n",
    "import seaborn as sn\n",
    "plt.figure(figsize=(10,7))\n",
    "sn.heatmap(cm, annot = True, fmt = 'd')\n",
    "plt.xlabel('predicted')\n",
    "plt.ylabel('truth')"
   ]
  },
  {
   "cell_type": "code",
   "execution_count": null,
   "id": "e92ef1e6",
   "metadata": {
    "scrolled": true
   },
   "outputs": [],
   "source": [
    "model = keras.Sequential([\n",
    "    keras.layers.Flatten(input_shape = (28,28)), \n",
    "    keras.layers.Dense(100, activation = 'relu'),\n",
    "    keras.layers.Dense(10, activation = 'sigmoid')\n",
    "])\n",
    "\n",
    "tb_callbacks = keras.callbacks.TensorBoard(log_dir=\"logs/adam\", histogram_freq=1) # for visualization of parameters and hyperparameters\n",
    "\n",
    "model.compile(\n",
    "    optimizer = 'adam',\n",
    "    loss = 'sparse_categorical_crossentropy',\n",
    "    metrics = ['accuracy']\n",
    ")\n",
    "model.fit(X_train, y_train, epochs= 5, callbacks=[tb_callbacks]) # callbacks parameter is required for that"
   ]
  },
  {
   "cell_type": "markdown",
   "id": "7fbc436e",
   "metadata": {},
   "source": [
    "## these below commands will display the tensorboard here itself"
   ]
  },
  {
   "cell_type": "code",
   "execution_count": null,
   "id": "29f0090a",
   "metadata": {},
   "outputs": [],
   "source": [
    "%load_ext tensorboard\n",
    "%tensorboard --logdir logs/"
   ]
  },
  {
   "cell_type": "code",
   "execution_count": null,
   "id": "ef99456c",
   "metadata": {},
   "outputs": [],
   "source": []
  }
 ],
 "metadata": {
  "kernelspec": {
   "display_name": "Python 3 (ipykernel)",
   "language": "python",
   "name": "python3"
  },
  "language_info": {
   "codemirror_mode": {
    "name": "ipython",
    "version": 3
   },
   "file_extension": ".py",
   "mimetype": "text/x-python",
   "name": "python",
   "nbconvert_exporter": "python",
   "pygments_lexer": "ipython3",
   "version": "3.10.9"
  }
 },
 "nbformat": 4,
 "nbformat_minor": 5
}
