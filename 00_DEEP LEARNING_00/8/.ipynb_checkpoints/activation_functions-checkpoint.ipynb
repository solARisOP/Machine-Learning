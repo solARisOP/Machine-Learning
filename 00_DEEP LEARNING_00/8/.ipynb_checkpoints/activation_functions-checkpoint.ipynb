{
 "cells": [
  {
   "cell_type": "code",
   "execution_count": 1,
   "id": "a42c97d6",
   "metadata": {},
   "outputs": [],
   "source": [
    "import math"
   ]
  },
  {
   "cell_type": "code",
   "execution_count": 10,
   "id": "31ae080f",
   "metadata": {},
   "outputs": [],
   "source": [
    "def sigmoid(x): # return value range from 0 to 1\n",
    "    return 1/(1+math.exp(-x))"
   ]
  },
  {
   "cell_type": "code",
   "execution_count": 15,
   "id": "9ec05a9b",
   "metadata": {},
   "outputs": [
    {
     "data": {
      "text/plain": [
       "0.7310585786300049"
      ]
     },
     "execution_count": 15,
     "metadata": {},
     "output_type": "execute_result"
    }
   ],
   "source": [
    "sigmoid(1)"
   ]
  },
  {
   "cell_type": "code",
   "execution_count": 16,
   "id": "51090d1c",
   "metadata": {},
   "outputs": [],
   "source": [
    "def tanh(x): # return a value range from -1 to 1\n",
    "    return (math.exp(x) - math.exp(-x))/(math.exp(x) + math.exp(-x))"
   ]
  },
  {
   "cell_type": "code",
   "execution_count": 25,
   "id": "fe121a49",
   "metadata": {},
   "outputs": [
    {
     "data": {
      "text/plain": [
       "0.9993292997390669"
      ]
     },
     "execution_count": 25,
     "metadata": {},
     "output_type": "execute_result"
    }
   ],
   "source": [
    "tanh(4)"
   ]
  },
  {
   "cell_type": "code",
   "execution_count": 26,
   "id": "f8584470",
   "metadata": {},
   "outputs": [],
   "source": [
    "def relu(x): # return the value itself if the input is +ve or else 0 \n",
    "    return max(0, x)"
   ]
  },
  {
   "cell_type": "code",
   "execution_count": 28,
   "id": "d1b46573",
   "metadata": {},
   "outputs": [
    {
     "data": {
      "text/plain": [
       "19"
      ]
     },
     "execution_count": 28,
     "metadata": {},
     "output_type": "execute_result"
    }
   ],
   "source": [
    "relu(19)"
   ]
  },
  {
   "cell_type": "code",
   "execution_count": 29,
   "id": "749f7c17",
   "metadata": {},
   "outputs": [],
   "source": [
    "def leaky_relu(x): # returns the value it self if the input is +ve\n",
    "    return max(0.1*x, x)"
   ]
  },
  {
   "cell_type": "code",
   "execution_count": 31,
   "id": "d91d0e6f",
   "metadata": {},
   "outputs": [
    {
     "data": {
      "text/plain": [
       "4"
      ]
     },
     "execution_count": 31,
     "metadata": {},
     "output_type": "execute_result"
    }
   ],
   "source": [
    "leaky_relu(4)"
   ]
  },
  {
   "cell_type": "code",
   "execution_count": null,
   "id": "30e20460",
   "metadata": {},
   "outputs": [],
   "source": []
  }
 ],
 "metadata": {
  "kernelspec": {
   "display_name": "Python 3 (ipykernel)",
   "language": "python",
   "name": "python3"
  },
  "language_info": {
   "codemirror_mode": {
    "name": "ipython",
    "version": 3
   },
   "file_extension": ".py",
   "mimetype": "text/x-python",
   "name": "python",
   "nbconvert_exporter": "python",
   "pygments_lexer": "ipython3",
   "version": "3.10.6"
  }
 },
 "nbformat": 4,
 "nbformat_minor": 5
}
