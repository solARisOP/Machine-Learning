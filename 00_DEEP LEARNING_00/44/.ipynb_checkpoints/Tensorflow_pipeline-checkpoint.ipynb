{
 "cells": [
  {
   "cell_type": "code",
   "execution_count": 19,
   "id": "05b815a7",
   "metadata": {},
   "outputs": [],
   "source": [
    "import tensorflow as tf"
   ]
  },
  {
   "cell_type": "code",
   "execution_count": 20,
   "id": "08a46872",
   "metadata": {},
   "outputs": [],
   "source": [
    "daily_sales_num = [25, 13, -90, 46, -2, 74, 102, -159]"
   ]
  },
  {
   "cell_type": "code",
   "execution_count": 21,
   "id": "0cd535c9",
   "metadata": {},
   "outputs": [
    {
     "data": {
      "text/plain": [
       "<TensorSliceDataset element_spec=TensorSpec(shape=(), dtype=tf.int32, name=None)>"
      ]
     },
     "execution_count": 21,
     "metadata": {},
     "output_type": "execute_result"
    }
   ],
   "source": [
    "tf_dataset = tf.data.Dataset.from_tensor_slices(daily_sales_num) # loading a pyhton list into tf datasets \n",
    "tf_dataset # it gives us an object which we can iterate through"
   ]
  },
  {
   "cell_type": "code",
   "execution_count": 22,
   "id": "415290d1",
   "metadata": {},
   "outputs": [
    {
     "name": "stdout",
     "output_type": "stream",
     "text": [
      "25\n",
      "13\n",
      "-90\n",
      "46\n",
      "-2\n",
      "74\n",
      "102\n",
      "-159\n"
     ]
    }
   ],
   "source": [
    "for sales in tf_dataset:\n",
    "    print(sales.numpy()) # the default object is tensor .numpy() is for converting it into numpy object"
   ]
  },
  {
   "cell_type": "code",
   "execution_count": 23,
   "id": "5ab9e21c",
   "metadata": {},
   "outputs": [
    {
     "name": "stdout",
     "output_type": "stream",
     "text": [
      "25\n",
      "13\n",
      "-90\n",
      "46\n",
      "-2\n",
      "74\n",
      "102\n",
      "-159\n"
     ]
    }
   ],
   "source": [
    "for sales in tf_dataset.as_numpy_iterator(): # .as_numpy_iterator() is same like .numpy() for seeing numbers soley in the object\n",
    "    print(sales)"
   ]
  },
  {
   "cell_type": "code",
   "execution_count": 24,
   "id": "44281f37",
   "metadata": {},
   "outputs": [
    {
     "name": "stdout",
     "output_type": "stream",
     "text": [
      "25\n",
      "13\n",
      "-90\n"
     ]
    }
   ],
   "source": [
    "for sales in tf_dataset.take(3): # first 3 numbers\n",
    "    print(sales.numpy())"
   ]
  },
  {
   "cell_type": "code",
   "execution_count": 25,
   "id": "f3262f1b",
   "metadata": {},
   "outputs": [
    {
     "name": "stdout",
     "output_type": "stream",
     "text": [
      "25\n",
      "13\n",
      "46\n",
      "74\n",
      "102\n"
     ]
    }
   ],
   "source": [
    "tf_dataset = tf_dataset.filter(lambda x: x>0) # filtering numbers which are less than 0\n",
    "for sales in tf_dataset:\n",
    "    print(sales.numpy())"
   ]
  },
  {
   "cell_type": "code",
   "execution_count": 26,
   "id": "c793c20e",
   "metadata": {},
   "outputs": [
    {
     "name": "stdout",
     "output_type": "stream",
     "text": [
      "2050\n",
      "1066\n",
      "3772\n",
      "6068\n",
      "8364\n"
     ]
    }
   ],
   "source": [
    "tf_dataset = tf_dataset.map(lambda x: x*82) # converting dollar to inr \n",
    "for sales in tf_dataset:\n",
    "    print(sales.numpy())"
   ]
  },
  {
   "cell_type": "code",
   "execution_count": 27,
   "id": "17b5f3cd",
   "metadata": {},
   "outputs": [
    {
     "name": "stdout",
     "output_type": "stream",
     "text": [
      "3772\n",
      "6068\n",
      "8364\n",
      "2050\n",
      "1066\n"
     ]
    }
   ],
   "source": [
    "tf_dataset = tf_dataset.shuffle(3) # shuffling the numbers by giving a buffer value\n",
    "for sales in tf_dataset:\n",
    "    print(sales.numpy())"
   ]
  },
  {
   "cell_type": "code",
   "execution_count": 37,
   "id": "ee24ebde",
   "metadata": {},
   "outputs": [
    {
     "name": "stdout",
     "output_type": "stream",
     "text": [
      "[2050 1066]\n",
      "[8364 6068]\n",
      "[3772]\n"
     ]
    }
   ],
   "source": [
    "for sales in tf_dataset.batch(2): # making batches of them\n",
    "    print(sales.numpy())"
   ]
  },
  {
   "cell_type": "code",
   "execution_count": 40,
   "id": "a6727587",
   "metadata": {},
   "outputs": [
    {
     "name": "stdout",
     "output_type": "stream",
     "text": [
      "[1066 6068]\n",
      "[3772 8364]\n",
      "[2050]\n"
     ]
    }
   ],
   "source": [
    "tf_dataset = tf.data.Dataset.from_tensor_slices(daily_sales_num)\n",
    "tf_dataset = tf_dataset.filter(lambda x: x>0).map(lambda y: y*82).shuffle(3).batch(2) # doing all the operations in one line\n",
    "for sales in tf_dataset:\n",
    "    print(sales.numpy())"
   ]
  },
  {
   "cell_type": "code",
   "execution_count": null,
   "id": "4eb6a118",
   "metadata": {},
   "outputs": [],
   "source": []
  },
  {
   "cell_type": "code",
   "execution_count": null,
   "id": "61bd2242",
   "metadata": {},
   "outputs": [],
   "source": []
  }
 ],
 "metadata": {
  "kernelspec": {
   "display_name": "Python 3 (ipykernel)",
   "language": "python",
   "name": "python3"
  },
  "language_info": {
   "codemirror_mode": {
    "name": "ipython",
    "version": 3
   },
   "file_extension": ".py",
   "mimetype": "text/x-python",
   "name": "python",
   "nbconvert_exporter": "python",
   "pygments_lexer": "ipython3",
   "version": "3.10.9"
  }
 },
 "nbformat": 4,
 "nbformat_minor": 5
}
