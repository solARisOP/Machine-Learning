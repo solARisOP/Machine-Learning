{
 "cells": [
  {
   "cell_type": "code",
   "execution_count": 1,
   "id": "c965a53a",
   "metadata": {},
   "outputs": [],
   "source": [
    "import spacy"
   ]
  },
  {
   "cell_type": "code",
   "execution_count": 2,
   "id": "2a2a4b1a",
   "metadata": {},
   "outputs": [],
   "source": [
    "nlp = spacy.load(\"en_core_web_sm\")"
   ]
  },
  {
   "cell_type": "code",
   "execution_count": 3,
   "id": "2577e784",
   "metadata": {},
   "outputs": [],
   "source": [
    "text = '''\n",
    "Thor: Love and Thunder is a 2022 American superhero film based on Marvel Comics featuring the character Thor, produced by Marvel Studios and \n",
    "distributed by Walt Disney Studios Motion Pictures. It is the sequel to Thor: Ragnarok (2017) and the 29th film in the Marvel Cinematic Universe (MCU).\n",
    "The film is directed by Taika Waititi, who co-wrote the script with Jennifer Kaytin Robinson, and stars Chris Hemsworth as Thor alongside Christian Bale, Tessa Thompson,\n",
    "Jaimie Alexander, Waititi, Russell Crowe, and Natalie Portman. In the film, Thor attempts to find inner peace, but must return to action and recruit Valkyrie (Thompson),\n",
    "Korg (Waititi), and Jane Foster (Portman)—who is now the Mighty Thor—to stop Gorr the God Butcher (Bale) from eliminating all gods.\n",
    "'''\n",
    "\n",
    "doc = nlp(text)"
   ]
  },
  {
   "cell_type": "code",
   "execution_count": 5,
   "id": "54dfd2b1",
   "metadata": {},
   "outputs": [],
   "source": [
    "i=0;\n",
    "for token in doc:\n",
    "    if token.is_stop:\n",
    "        i= i+1"
   ]
  },
  {
   "cell_type": "code",
   "execution_count": 6,
   "id": "a33579da",
   "metadata": {},
   "outputs": [
    {
     "data": {
      "text/plain": [
       "(767, 40)"
      ]
     },
     "execution_count": 6,
     "metadata": {},
     "output_type": "execute_result"
    }
   ],
   "source": [
    "len(text), i"
   ]
  },
  {
   "cell_type": "code",
   "execution_count": 7,
   "id": "b0fc0e73",
   "metadata": {},
   "outputs": [
    {
     "data": {
      "text/plain": [
       "5.215123859191656"
      ]
     },
     "execution_count": 7,
     "metadata": {},
     "output_type": "execute_result"
    }
   ],
   "source": [
    "(i/len(text))*100"
   ]
  },
  {
   "cell_type": "code",
   "execution_count": 15,
   "id": "125262ce",
   "metadata": {},
   "outputs": [],
   "source": [
    "def preprocess(text):\n",
    "    doc = nlp(text)\n",
    "    no_stop_words = []\n",
    "    for token in doc:\n",
    "        if token.text=='not':\n",
    "            no_stop_words.append(token.text)\n",
    "        elif not token.is_stop:\n",
    "            no_stop_words.append(token.text)\n",
    "    return \" \".join(no_stop_words)"
   ]
  },
  {
   "cell_type": "code",
   "execution_count": 20,
   "id": "c52fab10",
   "metadata": {},
   "outputs": [
    {
     "data": {
      "text/plain": [
       "'good movie'"
      ]
     },
     "execution_count": 20,
     "metadata": {},
     "output_type": "execute_result"
    }
   ],
   "source": [
    "preprocess(\"this is a good movie\")"
   ]
  },
  {
   "cell_type": "code",
   "execution_count": 21,
   "id": "4e7481eb",
   "metadata": {},
   "outputs": [
    {
     "data": {
      "text/plain": [
       "'not good movie'"
      ]
     },
     "execution_count": 21,
     "metadata": {},
     "output_type": "execute_result"
    }
   ],
   "source": [
    "preprocess(\"this is not a good movie\")"
   ]
  },
  {
   "cell_type": "code",
   "execution_count": 39,
   "id": "cf748e99",
   "metadata": {},
   "outputs": [],
   "source": [
    "text = '''The India men's national cricket team, also known as Team India or the Men in Blue, represents India in men's international cricket.\n",
    "It is governed by the Board of Control for Cricket in India (BCCI), and is a Full Member of the International Cricket Council (ICC) with Test,\n",
    "One Day International (ODI) and Twenty20 International (T20I) status. Cricket was introduced to India by British sailors in the 18th century, and the \n",
    "first cricket club was established in 1792. India's national cricket team played its first Test match on 25 June 1932 at Lord's, becoming the sixth team to be\n",
    "granted test cricket status.\n",
    "'''"
   ]
  },
  {
   "cell_type": "code",
   "execution_count": 40,
   "id": "84427ed4",
   "metadata": {},
   "outputs": [],
   "source": [
    "def preprocess_new(text):\n",
    "    doc = nlp(text)\n",
    "    no_stop_words = [token.text for token in doc if not token.is_stop and not token.is_punct and not token.text == '\\n']\n",
    "    return no_stop_words"
   ]
  },
  {
   "cell_type": "code",
   "execution_count": 47,
   "id": "b7d7deac",
   "metadata": {
    "scrolled": true
   },
   "outputs": [],
   "source": [
    "keylist = preprocess_new(text)"
   ]
  },
  {
   "cell_type": "code",
   "execution_count": 48,
   "id": "4188cfa1",
   "metadata": {},
   "outputs": [],
   "source": [
    "dict = {key: 0 for key in keylist}"
   ]
  },
  {
   "cell_type": "code",
   "execution_count": 55,
   "id": "c9ffb64e",
   "metadata": {},
   "outputs": [],
   "source": [
    "maxi = 0\n",
    "for i in keylist:\n",
    "    dict[i] = dict[i]+1\n",
    "    if dict[i]>maxi:\n",
    "        maxi = dict[i]\n",
    "        output = i"
   ]
  },
  {
   "cell_type": "code",
   "execution_count": 56,
   "id": "189ec9b8",
   "metadata": {
    "scrolled": true
   },
   "outputs": [
    {
     "data": {
      "text/plain": [
       "{'India': 18,\n",
       " 'men': 6,\n",
       " 'national': 6,\n",
       " 'cricket': 15,\n",
       " 'team': 9,\n",
       " 'known': 3,\n",
       " 'Team': 3,\n",
       " 'Men': 3,\n",
       " 'Blue': 3,\n",
       " 'represents': 3,\n",
       " 'international': 3,\n",
       " 'governed': 3,\n",
       " 'Board': 3,\n",
       " 'Control': 3,\n",
       " 'Cricket': 9,\n",
       " 'BCCI': 3,\n",
       " 'Member': 3,\n",
       " 'International': 9,\n",
       " 'Council': 3,\n",
       " 'ICC': 3,\n",
       " 'Test': 6,\n",
       " 'Day': 3,\n",
       " 'ODI': 3,\n",
       " 'Twenty20': 3,\n",
       " 'T20I': 3,\n",
       " 'status': 6,\n",
       " 'introduced': 3,\n",
       " 'British': 3,\n",
       " 'sailors': 3,\n",
       " '18th': 3,\n",
       " 'century': 3,\n",
       " 'club': 3,\n",
       " 'established': 3,\n",
       " '1792': 3,\n",
       " 'played': 3,\n",
       " 'match': 3,\n",
       " '25': 3,\n",
       " 'June': 3,\n",
       " '1932': 3,\n",
       " 'Lord': 3,\n",
       " 'sixth': 3,\n",
       " 'granted': 3,\n",
       " 'test': 3}"
      ]
     },
     "execution_count": 56,
     "metadata": {},
     "output_type": "execute_result"
    }
   ],
   "source": [
    "dict"
   ]
  },
  {
   "cell_type": "code",
   "execution_count": 57,
   "id": "9fef7890",
   "metadata": {},
   "outputs": [
    {
     "data": {
      "text/plain": [
       "'India'"
      ]
     },
     "execution_count": 57,
     "metadata": {},
     "output_type": "execute_result"
    }
   ],
   "source": [
    "output"
   ]
  },
  {
   "cell_type": "code",
   "execution_count": null,
   "id": "424e18f2",
   "metadata": {},
   "outputs": [],
   "source": []
  }
 ],
 "metadata": {
  "kernelspec": {
   "display_name": "Python 3 (ipykernel)",
   "language": "python",
   "name": "python3"
  },
  "language_info": {
   "codemirror_mode": {
    "name": "ipython",
    "version": 3
   },
   "file_extension": ".py",
   "mimetype": "text/x-python",
   "name": "python",
   "nbconvert_exporter": "python",
   "pygments_lexer": "ipython3",
   "version": "3.10.9"
  }
 },
 "nbformat": 4,
 "nbformat_minor": 5
}
