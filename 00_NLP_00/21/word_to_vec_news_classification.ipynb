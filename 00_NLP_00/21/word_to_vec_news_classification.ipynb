{
 "cells": [
  {
   "cell_type": "code",
   "execution_count": 2,
   "id": "aa2f8d0d",
   "metadata": {},
   "outputs": [],
   "source": [
    "import pandas as pd"
   ]
  },
  {
   "cell_type": "code",
   "execution_count": 3,
   "id": "3e2e944e",
   "metadata": {},
   "outputs": [],
   "source": [
    "df = pd.read_csv('Fake_Real_Data.csv')"
   ]
  },
  {
   "cell_type": "code",
   "execution_count": 4,
   "id": "822b13c6",
   "metadata": {},
   "outputs": [
    {
     "data": {
      "text/html": [
       "<div>\n",
       "<style scoped>\n",
       "    .dataframe tbody tr th:only-of-type {\n",
       "        vertical-align: middle;\n",
       "    }\n",
       "\n",
       "    .dataframe tbody tr th {\n",
       "        vertical-align: top;\n",
       "    }\n",
       "\n",
       "    .dataframe thead th {\n",
       "        text-align: right;\n",
       "    }\n",
       "</style>\n",
       "<table border=\"1\" class=\"dataframe\">\n",
       "  <thead>\n",
       "    <tr style=\"text-align: right;\">\n",
       "      <th></th>\n",
       "      <th>Text</th>\n",
       "      <th>label</th>\n",
       "    </tr>\n",
       "  </thead>\n",
       "  <tbody>\n",
       "    <tr>\n",
       "      <th>0</th>\n",
       "      <td>Top Trump Surrogate BRUTALLY Stabs Him In The...</td>\n",
       "      <td>Fake</td>\n",
       "    </tr>\n",
       "    <tr>\n",
       "      <th>1</th>\n",
       "      <td>U.S. conservative leader optimistic of common ...</td>\n",
       "      <td>Real</td>\n",
       "    </tr>\n",
       "    <tr>\n",
       "      <th>2</th>\n",
       "      <td>Trump proposes U.S. tax overhaul, stirs concer...</td>\n",
       "      <td>Real</td>\n",
       "    </tr>\n",
       "    <tr>\n",
       "      <th>3</th>\n",
       "      <td>Court Forces Ohio To Allow Millions Of Illega...</td>\n",
       "      <td>Fake</td>\n",
       "    </tr>\n",
       "    <tr>\n",
       "      <th>4</th>\n",
       "      <td>Democrats say Trump agrees to work on immigrat...</td>\n",
       "      <td>Real</td>\n",
       "    </tr>\n",
       "    <tr>\n",
       "      <th>...</th>\n",
       "      <td>...</td>\n",
       "      <td>...</td>\n",
       "    </tr>\n",
       "    <tr>\n",
       "      <th>9895</th>\n",
       "      <td>Wikileaks Admits To Screwing Up IMMENSELY Wit...</td>\n",
       "      <td>Fake</td>\n",
       "    </tr>\n",
       "    <tr>\n",
       "      <th>9896</th>\n",
       "      <td>Trump consults Republican senators on Fed chie...</td>\n",
       "      <td>Real</td>\n",
       "    </tr>\n",
       "    <tr>\n",
       "      <th>9897</th>\n",
       "      <td>Trump lawyers say judge lacks jurisdiction for...</td>\n",
       "      <td>Real</td>\n",
       "    </tr>\n",
       "    <tr>\n",
       "      <th>9898</th>\n",
       "      <td>WATCH: Right-Wing Pastor Falsely Credits Trum...</td>\n",
       "      <td>Fake</td>\n",
       "    </tr>\n",
       "    <tr>\n",
       "      <th>9899</th>\n",
       "      <td>Sean Spicer HILARIOUSLY Branded As Chickensh*...</td>\n",
       "      <td>Fake</td>\n",
       "    </tr>\n",
       "  </tbody>\n",
       "</table>\n",
       "<p>9900 rows × 2 columns</p>\n",
       "</div>"
      ],
      "text/plain": [
       "                                                   Text label\n",
       "0      Top Trump Surrogate BRUTALLY Stabs Him In The...  Fake\n",
       "1     U.S. conservative leader optimistic of common ...  Real\n",
       "2     Trump proposes U.S. tax overhaul, stirs concer...  Real\n",
       "3      Court Forces Ohio To Allow Millions Of Illega...  Fake\n",
       "4     Democrats say Trump agrees to work on immigrat...  Real\n",
       "...                                                 ...   ...\n",
       "9895   Wikileaks Admits To Screwing Up IMMENSELY Wit...  Fake\n",
       "9896  Trump consults Republican senators on Fed chie...  Real\n",
       "9897  Trump lawyers say judge lacks jurisdiction for...  Real\n",
       "9898   WATCH: Right-Wing Pastor Falsely Credits Trum...  Fake\n",
       "9899   Sean Spicer HILARIOUSLY Branded As Chickensh*...  Fake\n",
       "\n",
       "[9900 rows x 2 columns]"
      ]
     },
     "execution_count": 4,
     "metadata": {},
     "output_type": "execute_result"
    }
   ],
   "source": [
    "df"
   ]
  },
  {
   "cell_type": "code",
   "execution_count": 6,
   "id": "7dbd2c81",
   "metadata": {},
   "outputs": [
    {
     "data": {
      "text/html": [
       "<div>\n",
       "<style scoped>\n",
       "    .dataframe tbody tr th:only-of-type {\n",
       "        vertical-align: middle;\n",
       "    }\n",
       "\n",
       "    .dataframe tbody tr th {\n",
       "        vertical-align: top;\n",
       "    }\n",
       "\n",
       "    .dataframe thead th {\n",
       "        text-align: right;\n",
       "    }\n",
       "</style>\n",
       "<table border=\"1\" class=\"dataframe\">\n",
       "  <thead>\n",
       "    <tr style=\"text-align: right;\">\n",
       "      <th></th>\n",
       "      <th>Text</th>\n",
       "      <th>label</th>\n",
       "      <th>label_num</th>\n",
       "    </tr>\n",
       "  </thead>\n",
       "  <tbody>\n",
       "    <tr>\n",
       "      <th>0</th>\n",
       "      <td>Top Trump Surrogate BRUTALLY Stabs Him In The...</td>\n",
       "      <td>Fake</td>\n",
       "      <td>0</td>\n",
       "    </tr>\n",
       "    <tr>\n",
       "      <th>1</th>\n",
       "      <td>U.S. conservative leader optimistic of common ...</td>\n",
       "      <td>Real</td>\n",
       "      <td>1</td>\n",
       "    </tr>\n",
       "    <tr>\n",
       "      <th>2</th>\n",
       "      <td>Trump proposes U.S. tax overhaul, stirs concer...</td>\n",
       "      <td>Real</td>\n",
       "      <td>1</td>\n",
       "    </tr>\n",
       "    <tr>\n",
       "      <th>3</th>\n",
       "      <td>Court Forces Ohio To Allow Millions Of Illega...</td>\n",
       "      <td>Fake</td>\n",
       "      <td>0</td>\n",
       "    </tr>\n",
       "    <tr>\n",
       "      <th>4</th>\n",
       "      <td>Democrats say Trump agrees to work on immigrat...</td>\n",
       "      <td>Real</td>\n",
       "      <td>1</td>\n",
       "    </tr>\n",
       "    <tr>\n",
       "      <th>...</th>\n",
       "      <td>...</td>\n",
       "      <td>...</td>\n",
       "      <td>...</td>\n",
       "    </tr>\n",
       "    <tr>\n",
       "      <th>9895</th>\n",
       "      <td>Wikileaks Admits To Screwing Up IMMENSELY Wit...</td>\n",
       "      <td>Fake</td>\n",
       "      <td>0</td>\n",
       "    </tr>\n",
       "    <tr>\n",
       "      <th>9896</th>\n",
       "      <td>Trump consults Republican senators on Fed chie...</td>\n",
       "      <td>Real</td>\n",
       "      <td>1</td>\n",
       "    </tr>\n",
       "    <tr>\n",
       "      <th>9897</th>\n",
       "      <td>Trump lawyers say judge lacks jurisdiction for...</td>\n",
       "      <td>Real</td>\n",
       "      <td>1</td>\n",
       "    </tr>\n",
       "    <tr>\n",
       "      <th>9898</th>\n",
       "      <td>WATCH: Right-Wing Pastor Falsely Credits Trum...</td>\n",
       "      <td>Fake</td>\n",
       "      <td>0</td>\n",
       "    </tr>\n",
       "    <tr>\n",
       "      <th>9899</th>\n",
       "      <td>Sean Spicer HILARIOUSLY Branded As Chickensh*...</td>\n",
       "      <td>Fake</td>\n",
       "      <td>0</td>\n",
       "    </tr>\n",
       "  </tbody>\n",
       "</table>\n",
       "<p>9900 rows × 3 columns</p>\n",
       "</div>"
      ],
      "text/plain": [
       "                                                   Text label  label_num\n",
       "0      Top Trump Surrogate BRUTALLY Stabs Him In The...  Fake          0\n",
       "1     U.S. conservative leader optimistic of common ...  Real          1\n",
       "2     Trump proposes U.S. tax overhaul, stirs concer...  Real          1\n",
       "3      Court Forces Ohio To Allow Millions Of Illega...  Fake          0\n",
       "4     Democrats say Trump agrees to work on immigrat...  Real          1\n",
       "...                                                 ...   ...        ...\n",
       "9895   Wikileaks Admits To Screwing Up IMMENSELY Wit...  Fake          0\n",
       "9896  Trump consults Republican senators on Fed chie...  Real          1\n",
       "9897  Trump lawyers say judge lacks jurisdiction for...  Real          1\n",
       "9898   WATCH: Right-Wing Pastor Falsely Credits Trum...  Fake          0\n",
       "9899   Sean Spicer HILARIOUSLY Branded As Chickensh*...  Fake          0\n",
       "\n",
       "[9900 rows x 3 columns]"
      ]
     },
     "execution_count": 6,
     "metadata": {},
     "output_type": "execute_result"
    }
   ],
   "source": [
    "df['label_num'] = df['label'].map({'Fake' : 0, 'Real' : 1})\n",
    "df"
   ]
  },
  {
   "cell_type": "code",
   "execution_count": 7,
   "id": "6cf7b42a",
   "metadata": {},
   "outputs": [],
   "source": [
    "import spacy\n",
    "\n",
    "nlp = spacy.load('en_core_web_lg')\n"
   ]
  },
  {
   "cell_type": "code",
   "execution_count": 8,
   "id": "645ad69e",
   "metadata": {},
   "outputs": [],
   "source": [
    "df['vectors'] = df.Text.apply(lambda x : nlp(x).vector)"
   ]
  },
  {
   "cell_type": "code",
   "execution_count": 9,
   "id": "22d39451",
   "metadata": {},
   "outputs": [
    {
     "data": {
      "text/html": [
       "<div>\n",
       "<style scoped>\n",
       "    .dataframe tbody tr th:only-of-type {\n",
       "        vertical-align: middle;\n",
       "    }\n",
       "\n",
       "    .dataframe tbody tr th {\n",
       "        vertical-align: top;\n",
       "    }\n",
       "\n",
       "    .dataframe thead th {\n",
       "        text-align: right;\n",
       "    }\n",
       "</style>\n",
       "<table border=\"1\" class=\"dataframe\">\n",
       "  <thead>\n",
       "    <tr style=\"text-align: right;\">\n",
       "      <th></th>\n",
       "      <th>Text</th>\n",
       "      <th>label</th>\n",
       "      <th>label_num</th>\n",
       "      <th>vectors</th>\n",
       "    </tr>\n",
       "  </thead>\n",
       "  <tbody>\n",
       "    <tr>\n",
       "      <th>0</th>\n",
       "      <td>Top Trump Surrogate BRUTALLY Stabs Him In The...</td>\n",
       "      <td>Fake</td>\n",
       "      <td>0</td>\n",
       "      <td>[-0.6759837, 1.4263071, -2.318466, -0.451093, ...</td>\n",
       "    </tr>\n",
       "    <tr>\n",
       "      <th>1</th>\n",
       "      <td>U.S. conservative leader optimistic of common ...</td>\n",
       "      <td>Real</td>\n",
       "      <td>1</td>\n",
       "      <td>[-1.8355803, 1.3101058, -2.4919677, 1.0268308,...</td>\n",
       "    </tr>\n",
       "    <tr>\n",
       "      <th>2</th>\n",
       "      <td>Trump proposes U.S. tax overhaul, stirs concer...</td>\n",
       "      <td>Real</td>\n",
       "      <td>1</td>\n",
       "      <td>[-1.9851209, 0.14389805, -2.4221718, 0.9133005...</td>\n",
       "    </tr>\n",
       "    <tr>\n",
       "      <th>3</th>\n",
       "      <td>Court Forces Ohio To Allow Millions Of Illega...</td>\n",
       "      <td>Fake</td>\n",
       "      <td>0</td>\n",
       "      <td>[-2.7812982, -0.16120885, -1.609772, 1.3624227...</td>\n",
       "    </tr>\n",
       "    <tr>\n",
       "      <th>4</th>\n",
       "      <td>Democrats say Trump agrees to work on immigrat...</td>\n",
       "      <td>Real</td>\n",
       "      <td>1</td>\n",
       "      <td>[-2.2010763, 0.9961637, -2.4088492, 1.128273, ...</td>\n",
       "    </tr>\n",
       "    <tr>\n",
       "      <th>...</th>\n",
       "      <td>...</td>\n",
       "      <td>...</td>\n",
       "      <td>...</td>\n",
       "      <td>...</td>\n",
       "    </tr>\n",
       "    <tr>\n",
       "      <th>9895</th>\n",
       "      <td>Wikileaks Admits To Screwing Up IMMENSELY Wit...</td>\n",
       "      <td>Fake</td>\n",
       "      <td>0</td>\n",
       "      <td>[-1.6682401, 0.78006977, -2.2337353, -0.159771...</td>\n",
       "    </tr>\n",
       "    <tr>\n",
       "      <th>9896</th>\n",
       "      <td>Trump consults Republican senators on Fed chie...</td>\n",
       "      <td>Real</td>\n",
       "      <td>1</td>\n",
       "      <td>[-1.9297235, 0.8007302, -1.8990824, 0.42668718...</td>\n",
       "    </tr>\n",
       "    <tr>\n",
       "      <th>9897</th>\n",
       "      <td>Trump lawyers say judge lacks jurisdiction for...</td>\n",
       "      <td>Real</td>\n",
       "      <td>1</td>\n",
       "      <td>[-1.5289013, 1.0250993, -1.9861357, 0.4278564,...</td>\n",
       "    </tr>\n",
       "    <tr>\n",
       "      <th>9898</th>\n",
       "      <td>WATCH: Right-Wing Pastor Falsely Credits Trum...</td>\n",
       "      <td>Fake</td>\n",
       "      <td>0</td>\n",
       "      <td>[-1.3928099, 0.7792715, -2.2072845, 0.13192406...</td>\n",
       "    </tr>\n",
       "    <tr>\n",
       "      <th>9899</th>\n",
       "      <td>Sean Spicer HILARIOUSLY Branded As Chickensh*...</td>\n",
       "      <td>Fake</td>\n",
       "      <td>0</td>\n",
       "      <td>[-1.5856593, -0.31769615, -0.9302766, 0.330447...</td>\n",
       "    </tr>\n",
       "  </tbody>\n",
       "</table>\n",
       "<p>9900 rows × 4 columns</p>\n",
       "</div>"
      ],
      "text/plain": [
       "                                                   Text label  label_num  \\\n",
       "0      Top Trump Surrogate BRUTALLY Stabs Him In The...  Fake          0   \n",
       "1     U.S. conservative leader optimistic of common ...  Real          1   \n",
       "2     Trump proposes U.S. tax overhaul, stirs concer...  Real          1   \n",
       "3      Court Forces Ohio To Allow Millions Of Illega...  Fake          0   \n",
       "4     Democrats say Trump agrees to work on immigrat...  Real          1   \n",
       "...                                                 ...   ...        ...   \n",
       "9895   Wikileaks Admits To Screwing Up IMMENSELY Wit...  Fake          0   \n",
       "9896  Trump consults Republican senators on Fed chie...  Real          1   \n",
       "9897  Trump lawyers say judge lacks jurisdiction for...  Real          1   \n",
       "9898   WATCH: Right-Wing Pastor Falsely Credits Trum...  Fake          0   \n",
       "9899   Sean Spicer HILARIOUSLY Branded As Chickensh*...  Fake          0   \n",
       "\n",
       "                                                vectors  \n",
       "0     [-0.6759837, 1.4263071, -2.318466, -0.451093, ...  \n",
       "1     [-1.8355803, 1.3101058, -2.4919677, 1.0268308,...  \n",
       "2     [-1.9851209, 0.14389805, -2.4221718, 0.9133005...  \n",
       "3     [-2.7812982, -0.16120885, -1.609772, 1.3624227...  \n",
       "4     [-2.2010763, 0.9961637, -2.4088492, 1.128273, ...  \n",
       "...                                                 ...  \n",
       "9895  [-1.6682401, 0.78006977, -2.2337353, -0.159771...  \n",
       "9896  [-1.9297235, 0.8007302, -1.8990824, 0.42668718...  \n",
       "9897  [-1.5289013, 1.0250993, -1.9861357, 0.4278564,...  \n",
       "9898  [-1.3928099, 0.7792715, -2.2072845, 0.13192406...  \n",
       "9899  [-1.5856593, -0.31769615, -0.9302766, 0.330447...  \n",
       "\n",
       "[9900 rows x 4 columns]"
      ]
     },
     "execution_count": 9,
     "metadata": {},
     "output_type": "execute_result"
    }
   ],
   "source": [
    "df"
   ]
  },
  {
   "cell_type": "code",
   "execution_count": 18,
   "id": "b7195db2",
   "metadata": {},
   "outputs": [
    {
     "data": {
      "text/plain": [
       "0       [-0.6759837, 1.4263071, -2.318466, -0.451093, ...\n",
       "1       [-1.8355803, 1.3101058, -2.4919677, 1.0268308,...\n",
       "2       [-1.9851209, 0.14389805, -2.4221718, 0.9133005...\n",
       "3       [-2.7812982, -0.16120885, -1.609772, 1.3624227...\n",
       "4       [-2.2010763, 0.9961637, -2.4088492, 1.128273, ...\n",
       "                              ...                        \n",
       "9895    [-1.6682401, 0.78006977, -2.2337353, -0.159771...\n",
       "9896    [-1.9297235, 0.8007302, -1.8990824, 0.42668718...\n",
       "9897    [-1.5289013, 1.0250993, -1.9861357, 0.4278564,...\n",
       "9898    [-1.3928099, 0.7792715, -2.2072845, 0.13192406...\n",
       "9899    [-1.5856593, -0.31769615, -0.9302766, 0.330447...\n",
       "Name: vectors, Length: 9900, dtype: object"
      ]
     },
     "execution_count": 18,
     "metadata": {},
     "output_type": "execute_result"
    }
   ],
   "source": [
    "df.vectors"
   ]
  },
  {
   "cell_type": "code",
   "execution_count": 19,
   "id": "14afff04",
   "metadata": {},
   "outputs": [],
   "source": [
    "from sklearn.model_selection import train_test_split as tts\n",
    "X_train, X_test, y_train, y_test = tts(df.vectors, df.label_num, test_size=0.2, stratify=df.label_num, random_state=2022)"
   ]
  },
  {
   "cell_type": "code",
   "execution_count": 20,
   "id": "6e236f3c",
   "metadata": {},
   "outputs": [
    {
     "data": {
      "text/plain": [
       "5454    [-1.2675549, 0.6819273, -1.9475011, 0.14081852...\n",
       "2881    [-1.4524416, 1.0771673, -2.1226993, -0.3646343...\n",
       "5948    [-0.71132106, 1.5419773, -2.1290784, -0.057969...\n",
       "7576    [-1.5351466, 0.81270623, -2.263913, 0.367522, ...\n",
       "539     [-1.5512545, 0.27100977, -1.7965556, -0.078340...\n",
       "                              ...                        \n",
       "4192    [-1.449618, 0.71553457, -1.8461215, 0.02078848...\n",
       "4531    [-1.8758736, 0.3606803, -1.4033957, -0.0168142...\n",
       "688     [-2.178339, 0.6903691, -1.6112626, 1.0941887, ...\n",
       "9262    [-1.7354125, 0.8655342, -2.3402264, 0.7775623,...\n",
       "9145    [-1.7424282, 0.32420015, -1.5036304, 1.2036991...\n",
       "Name: vectors, Length: 7920, dtype: object"
      ]
     },
     "execution_count": 20,
     "metadata": {},
     "output_type": "execute_result"
    }
   ],
   "source": [
    "X_train"
   ]
  },
  {
   "cell_type": "code",
   "execution_count": 21,
   "id": "6d65b5b0",
   "metadata": {},
   "outputs": [],
   "source": [
    "import numpy as np"
   ]
  },
  {
   "cell_type": "code",
   "execution_count": 26,
   "id": "45291ebc",
   "metadata": {},
   "outputs": [],
   "source": [
    "X_train_stack = np.stack(X_train)\n",
    "X_test_stack = np.stack(X_test)"
   ]
  },
  {
   "cell_type": "code",
   "execution_count": 28,
   "id": "79f518cc",
   "metadata": {},
   "outputs": [
    {
     "data": {
      "text/plain": [
       "(300,)"
      ]
     },
     "execution_count": 28,
     "metadata": {},
     "output_type": "execute_result"
    }
   ],
   "source": [
    "X_test_stack[0].shape"
   ]
  },
  {
   "cell_type": "code",
   "execution_count": 30,
   "id": "82a5ff53",
   "metadata": {},
   "outputs": [],
   "source": [
    "from sklearn.preprocessing import MinMaxScaler\n",
    "\n",
    "scaler = MinMaxScaler()\n",
    "\n",
    "scaled_train_emmbed = scaler.fit_transform(X_train_stack)\n",
    "scaled_test_emmbed = scaler.transform(X_test_stack)\n",
    "\n"
   ]
  },
  {
   "cell_type": "code",
   "execution_count": 31,
   "id": "c1009014",
   "metadata": {},
   "outputs": [
    {
     "name": "stdout",
     "output_type": "stream",
     "text": [
      "              precision    recall  f1-score   support\n",
      "\n",
      "           0       0.95      0.94      0.95      1000\n",
      "           1       0.94      0.95      0.95       980\n",
      "\n",
      "    accuracy                           0.95      1980\n",
      "   macro avg       0.95      0.95      0.95      1980\n",
      "weighted avg       0.95      0.95      0.95      1980\n",
      "\n"
     ]
    }
   ],
   "source": [
    "from sklearn.naive_bayes import MultinomialNB\n",
    "from sklearn.metrics import classification_report\n",
    "\n",
    "model = MultinomialNB()\n",
    "\n",
    "model.fit(scaled_train_emmbed, y_train)\n",
    "\n",
    "y_pred = model.predict(scaled_test_emmbed)\n",
    "\n",
    "print(classification_report(y_test, y_pred))"
   ]
  },
  {
   "cell_type": "code",
   "execution_count": 32,
   "id": "96403fe6",
   "metadata": {},
   "outputs": [
    {
     "name": "stdout",
     "output_type": "stream",
     "text": [
      "              precision    recall  f1-score   support\n",
      "\n",
      "           0       1.00      0.99      0.99      1000\n",
      "           1       0.99      1.00      0.99       980\n",
      "\n",
      "    accuracy                           0.99      1980\n",
      "   macro avg       0.99      0.99      0.99      1980\n",
      "weighted avg       0.99      0.99      0.99      1980\n",
      "\n"
     ]
    }
   ],
   "source": [
    "from sklearn.neighbors import KNeighborsClassifier\n",
    "\n",
    "model = KNeighborsClassifier(n_neighbors=5, metric='euclidean')\n",
    "\n",
    "model.fit(scaled_train_emmbed, y_train)\n",
    "\n",
    "y_pred = model.predict(scaled_test_emmbed)\n",
    "\n",
    "print(classification_report(y_test, y_pred))"
   ]
  },
  {
   "cell_type": "code",
   "execution_count": null,
   "id": "41d568a5",
   "metadata": {},
   "outputs": [],
   "source": []
  }
 ],
 "metadata": {
  "kernelspec": {
   "display_name": "Python 3 (ipykernel)",
   "language": "python",
   "name": "python3"
  },
  "language_info": {
   "codemirror_mode": {
    "name": "ipython",
    "version": 3
   },
   "file_extension": ".py",
   "mimetype": "text/x-python",
   "name": "python",
   "nbconvert_exporter": "python",
   "pygments_lexer": "ipython3",
   "version": "3.10.9"
  }
 },
 "nbformat": 4,
 "nbformat_minor": 5
}
