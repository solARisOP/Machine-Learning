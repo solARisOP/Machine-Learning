{
  "nbformat": 4,
  "nbformat_minor": 0,
  "metadata": {
    "colab": {
      "provenance": []
    },
    "kernelspec": {
      "name": "python3",
      "display_name": "Python 3"
    },
    "language_info": {
      "name": "python"
    }
  },
  "cells": [
    {
      "cell_type": "code",
      "source": [
        "from google.colab import drive\n",
        "drive.mount('/content/drive')"
      ],
      "metadata": {
        "colab": {
          "base_uri": "https://localhost:8080/"
        },
        "id": "SmHuxlI57sNv",
        "outputId": "856ac567-75eb-4a5e-923c-43e2d4d7da0a"
      },
      "execution_count": 1,
      "outputs": [
        {
          "output_type": "stream",
          "name": "stdout",
          "text": [
            "Mounted at /content/drive\n"
          ]
        }
      ]
    },
    {
      "cell_type": "code",
      "execution_count": 2,
      "metadata": {
        "colab": {
          "base_uri": "https://localhost:8080/"
        },
        "id": "IyBXhlylf6fl",
        "outputId": "ac8dea94-455e-4eac-b0b5-7fcb5e815ef0"
      },
      "outputs": [
        {
          "output_type": "stream",
          "name": "stdout",
          "text": [
            "Looking in indexes: https://pypi.org/simple, https://us-python.pkg.dev/colab-wheels/public/simple/\n",
            "Collecting fasttext\n",
            "  Downloading fasttext-0.9.2.tar.gz (68 kB)\n",
            "\u001b[2K     \u001b[90m━━━━━━━━━━━━━━━━━━━━━━━━━━━━━━━━━━━━━━━━\u001b[0m \u001b[32m68.8/68.8 kB\u001b[0m \u001b[31m3.9 MB/s\u001b[0m eta \u001b[36m0:00:00\u001b[0m\n",
            "\u001b[?25h  Preparing metadata (setup.py) ... \u001b[?25l\u001b[?25hdone\n",
            "Collecting pybind11>=2.2\n",
            "  Using cached pybind11-2.10.4-py3-none-any.whl (222 kB)\n",
            "Requirement already satisfied: setuptools>=0.7.0 in /usr/local/lib/python3.9/dist-packages (from fasttext) (67.7.2)\n",
            "Requirement already satisfied: numpy in /usr/local/lib/python3.9/dist-packages (from fasttext) (1.22.4)\n",
            "Building wheels for collected packages: fasttext\n",
            "  Building wheel for fasttext (setup.py) ... \u001b[?25l\u001b[?25hdone\n",
            "  Created wheel for fasttext: filename=fasttext-0.9.2-cp39-cp39-linux_x86_64.whl size=4395585 sha256=c6f5fb1697176d9e06bd3d246b4ddb7344dd1ec5e3011e4864f423816b9fd446\n",
            "  Stored in directory: /root/.cache/pip/wheels/64/57/bc/1741406019061d5664914b070bd3e71f6244648732bc96109e\n",
            "Successfully built fasttext\n",
            "Installing collected packages: pybind11, fasttext\n",
            "Successfully installed fasttext-0.9.2 pybind11-2.10.4\n"
          ]
        }
      ],
      "source": [
        "pip install fasttext\n"
      ]
    },
    {
      "cell_type": "code",
      "source": [
        "import fasttext.util"
      ],
      "metadata": {
        "id": "Je8bk-1zgjAn"
      },
      "execution_count": 17,
      "outputs": []
    },
    {
      "cell_type": "code",
      "source": [
        "fasttext.util.download_model('en', if_exists='ignore')  # English"
      ],
      "metadata": {
        "colab": {
          "base_uri": "https://localhost:8080/",
          "height": 328
        },
        "id": "r_AfteIqglwI",
        "outputId": "8dc39c8f-451e-4629-df78-1346cb90f7f3"
      },
      "execution_count": 3,
      "outputs": [
        {
          "output_type": "stream",
          "name": "stdout",
          "text": [
            "Downloading https://dl.fbaipublicfiles.com/fasttext/vectors-crawl/cc.en.300.bin.gz\n"
          ]
        },
        {
          "output_type": "error",
          "ename": "KeyboardInterrupt",
          "evalue": "ignored",
          "traceback": [
            "\u001b[0;31m---------------------------------------------------------------------------\u001b[0m",
            "\u001b[0;31mKeyboardInterrupt\u001b[0m                         Traceback (most recent call last)",
            "\u001b[0;32m<ipython-input-3-3dcde314e592>\u001b[0m in \u001b[0;36m<cell line: 1>\u001b[0;34m()\u001b[0m\n\u001b[0;32m----> 1\u001b[0;31m \u001b[0mfasttext\u001b[0m\u001b[0;34m.\u001b[0m\u001b[0mutil\u001b[0m\u001b[0;34m.\u001b[0m\u001b[0mdownload_model\u001b[0m\u001b[0;34m(\u001b[0m\u001b[0;34m'en'\u001b[0m\u001b[0;34m,\u001b[0m \u001b[0mif_exists\u001b[0m\u001b[0;34m=\u001b[0m\u001b[0;34m'ignore'\u001b[0m\u001b[0;34m)\u001b[0m  \u001b[0;31m# English\u001b[0m\u001b[0;34m\u001b[0m\u001b[0;34m\u001b[0m\u001b[0m\n\u001b[0m",
            "\u001b[0;32m/usr/local/lib/python3.10/dist-packages/fasttext/util/util.py\u001b[0m in \u001b[0;36mdownload_model\u001b[0;34m(lang_id, if_exists, dimension)\u001b[0m\n\u001b[1;32m    202\u001b[0m             \u001b[0;32mpass\u001b[0m\u001b[0;34m\u001b[0m\u001b[0;34m\u001b[0m\u001b[0m\n\u001b[1;32m    203\u001b[0m \u001b[0;34m\u001b[0m\u001b[0m\n\u001b[0;32m--> 204\u001b[0;31m     \u001b[0;32mif\u001b[0m \u001b[0m_download_gz_model\u001b[0m\u001b[0;34m(\u001b[0m\u001b[0mgz_file_name\u001b[0m\u001b[0;34m,\u001b[0m \u001b[0mif_exists\u001b[0m\u001b[0;34m)\u001b[0m\u001b[0;34m:\u001b[0m\u001b[0;34m\u001b[0m\u001b[0;34m\u001b[0m\u001b[0m\n\u001b[0m\u001b[1;32m    205\u001b[0m         \u001b[0;32mwith\u001b[0m \u001b[0mgzip\u001b[0m\u001b[0;34m.\u001b[0m\u001b[0mopen\u001b[0m\u001b[0;34m(\u001b[0m\u001b[0mgz_file_name\u001b[0m\u001b[0;34m,\u001b[0m \u001b[0;34m'rb'\u001b[0m\u001b[0;34m)\u001b[0m \u001b[0;32mas\u001b[0m \u001b[0mf\u001b[0m\u001b[0;34m:\u001b[0m\u001b[0;34m\u001b[0m\u001b[0;34m\u001b[0m\u001b[0m\n\u001b[1;32m    206\u001b[0m             \u001b[0;32mwith\u001b[0m \u001b[0mopen\u001b[0m\u001b[0;34m(\u001b[0m\u001b[0mfile_name\u001b[0m\u001b[0;34m,\u001b[0m \u001b[0;34m'wb'\u001b[0m\u001b[0;34m)\u001b[0m \u001b[0;32mas\u001b[0m \u001b[0mf_out\u001b[0m\u001b[0;34m:\u001b[0m\u001b[0;34m\u001b[0m\u001b[0;34m\u001b[0m\u001b[0m\n",
            "\u001b[0;32m/usr/local/lib/python3.10/dist-packages/fasttext/util/util.py\u001b[0m in \u001b[0;36m_download_gz_model\u001b[0;34m(gz_file_name, if_exists)\u001b[0m\n\u001b[1;32m    176\u001b[0m \u001b[0;34m\u001b[0m\u001b[0m\n\u001b[1;32m    177\u001b[0m     \u001b[0murl\u001b[0m \u001b[0;34m=\u001b[0m \u001b[0;34m\"https://dl.fbaipublicfiles.com/fasttext/vectors-crawl/%s\"\u001b[0m \u001b[0;34m%\u001b[0m \u001b[0mgz_file_name\u001b[0m\u001b[0;34m\u001b[0m\u001b[0;34m\u001b[0m\u001b[0m\n\u001b[0;32m--> 178\u001b[0;31m     \u001b[0m_download_file\u001b[0m\u001b[0;34m(\u001b[0m\u001b[0murl\u001b[0m\u001b[0;34m,\u001b[0m \u001b[0mgz_file_name\u001b[0m\u001b[0;34m)\u001b[0m\u001b[0;34m\u001b[0m\u001b[0;34m\u001b[0m\u001b[0m\n\u001b[0m\u001b[1;32m    179\u001b[0m \u001b[0;34m\u001b[0m\u001b[0m\n\u001b[1;32m    180\u001b[0m     \u001b[0;32mreturn\u001b[0m \u001b[0;32mTrue\u001b[0m\u001b[0;34m\u001b[0m\u001b[0;34m\u001b[0m\u001b[0m\n",
            "\u001b[0;32m/usr/local/lib/python3.10/dist-packages/fasttext/util/util.py\u001b[0m in \u001b[0;36m_download_file\u001b[0;34m(url, write_file_name, chunk_size)\u001b[0m\n\u001b[1;32m    160\u001b[0m                 \u001b[0;32mbreak\u001b[0m\u001b[0;34m\u001b[0m\u001b[0;34m\u001b[0m\u001b[0m\n\u001b[1;32m    161\u001b[0m             \u001b[0mf\u001b[0m\u001b[0;34m.\u001b[0m\u001b[0mwrite\u001b[0m\u001b[0;34m(\u001b[0m\u001b[0mchunk\u001b[0m\u001b[0;34m)\u001b[0m\u001b[0;34m\u001b[0m\u001b[0;34m\u001b[0m\u001b[0m\n\u001b[0;32m--> 162\u001b[0;31m             \u001b[0m_print_progress\u001b[0m\u001b[0;34m(\u001b[0m\u001b[0mdownloaded\u001b[0m\u001b[0;34m,\u001b[0m \u001b[0mfile_size\u001b[0m\u001b[0;34m)\u001b[0m\u001b[0;34m\u001b[0m\u001b[0;34m\u001b[0m\u001b[0m\n\u001b[0m\u001b[1;32m    163\u001b[0m \u001b[0;34m\u001b[0m\u001b[0m\n\u001b[1;32m    164\u001b[0m     \u001b[0mos\u001b[0m\u001b[0;34m.\u001b[0m\u001b[0mrename\u001b[0m\u001b[0;34m(\u001b[0m\u001b[0mdownload_file_name\u001b[0m\u001b[0;34m,\u001b[0m \u001b[0mwrite_file_name\u001b[0m\u001b[0;34m)\u001b[0m\u001b[0;34m\u001b[0m\u001b[0;34m\u001b[0m\u001b[0m\n",
            "\u001b[0;32m/usr/local/lib/python3.10/dist-packages/fasttext/util/util.py\u001b[0m in \u001b[0;36m_print_progress\u001b[0;34m(downloaded_bytes, total_size)\u001b[0m\n\u001b[1;32m    138\u001b[0m     \u001b[0msys\u001b[0m\u001b[0;34m.\u001b[0m\u001b[0mstdout\u001b[0m\u001b[0;34m.\u001b[0m\u001b[0mwrite\u001b[0m\u001b[0;34m(\u001b[0m\u001b[0;34m\" \"\u001b[0m \u001b[0;34m*\u001b[0m \u001b[0;34m(\u001b[0m\u001b[0mbar_size\u001b[0m \u001b[0;34m-\u001b[0m \u001b[0mbar\u001b[0m\u001b[0;34m)\u001b[0m\u001b[0;34m)\u001b[0m\u001b[0;34m\u001b[0m\u001b[0;34m\u001b[0m\u001b[0m\n\u001b[1;32m    139\u001b[0m     \u001b[0msys\u001b[0m\u001b[0;34m.\u001b[0m\u001b[0mstdout\u001b[0m\u001b[0;34m.\u001b[0m\u001b[0mwrite\u001b[0m\u001b[0;34m(\u001b[0m\u001b[0;34m\"]\\r\"\u001b[0m\u001b[0;34m)\u001b[0m\u001b[0;34m\u001b[0m\u001b[0;34m\u001b[0m\u001b[0m\n\u001b[0;32m--> 140\u001b[0;31m     \u001b[0msys\u001b[0m\u001b[0;34m.\u001b[0m\u001b[0mstdout\u001b[0m\u001b[0;34m.\u001b[0m\u001b[0mflush\u001b[0m\u001b[0;34m(\u001b[0m\u001b[0;34m)\u001b[0m\u001b[0;34m\u001b[0m\u001b[0;34m\u001b[0m\u001b[0m\n\u001b[0m\u001b[1;32m    141\u001b[0m \u001b[0;34m\u001b[0m\u001b[0m\n\u001b[1;32m    142\u001b[0m     \u001b[0;32mif\u001b[0m \u001b[0mdownloaded_bytes\u001b[0m \u001b[0;34m>=\u001b[0m \u001b[0mtotal_size\u001b[0m\u001b[0;34m:\u001b[0m\u001b[0;34m\u001b[0m\u001b[0;34m\u001b[0m\u001b[0m\n",
            "\u001b[0;32m/usr/local/lib/python3.10/dist-packages/ipykernel/iostream.py\u001b[0m in \u001b[0;36mflush\u001b[0;34m(self)\u001b[0m\n\u001b[1;32m    345\u001b[0m             \u001b[0;31m# so only wait if import lock is not held\u001b[0m\u001b[0;34m\u001b[0m\u001b[0;34m\u001b[0m\u001b[0m\n\u001b[1;32m    346\u001b[0m             \u001b[0;32mif\u001b[0m \u001b[0;32mnot\u001b[0m \u001b[0mimport_lock_held\u001b[0m\u001b[0;34m(\u001b[0m\u001b[0;34m)\u001b[0m\u001b[0;34m:\u001b[0m\u001b[0;34m\u001b[0m\u001b[0;34m\u001b[0m\u001b[0m\n\u001b[0;32m--> 347\u001b[0;31m                 \u001b[0mevt\u001b[0m \u001b[0;34m=\u001b[0m \u001b[0mthreading\u001b[0m\u001b[0;34m.\u001b[0m\u001b[0mEvent\u001b[0m\u001b[0;34m(\u001b[0m\u001b[0;34m)\u001b[0m\u001b[0;34m\u001b[0m\u001b[0;34m\u001b[0m\u001b[0m\n\u001b[0m\u001b[1;32m    348\u001b[0m                 \u001b[0mself\u001b[0m\u001b[0;34m.\u001b[0m\u001b[0mpub_thread\u001b[0m\u001b[0;34m.\u001b[0m\u001b[0mschedule\u001b[0m\u001b[0;34m(\u001b[0m\u001b[0mevt\u001b[0m\u001b[0;34m.\u001b[0m\u001b[0mset\u001b[0m\u001b[0;34m)\u001b[0m\u001b[0;34m\u001b[0m\u001b[0;34m\u001b[0m\u001b[0m\n\u001b[1;32m    349\u001b[0m                 \u001b[0;31m# and give a timeout to avoid\u001b[0m\u001b[0;34m\u001b[0m\u001b[0;34m\u001b[0m\u001b[0m\n",
            "\u001b[0;32m/usr/lib/python3.10/threading.py\u001b[0m in \u001b[0;36m__init__\u001b[0;34m(self)\u001b[0m\n\u001b[1;32m    543\u001b[0m     \u001b[0;31m# After Tim Peters' event class (without is_posted())\u001b[0m\u001b[0;34m\u001b[0m\u001b[0;34m\u001b[0m\u001b[0m\n\u001b[1;32m    544\u001b[0m \u001b[0;34m\u001b[0m\u001b[0m\n\u001b[0;32m--> 545\u001b[0;31m     \u001b[0;32mdef\u001b[0m \u001b[0m__init__\u001b[0m\u001b[0;34m(\u001b[0m\u001b[0mself\u001b[0m\u001b[0;34m)\u001b[0m\u001b[0;34m:\u001b[0m\u001b[0;34m\u001b[0m\u001b[0;34m\u001b[0m\u001b[0m\n\u001b[0m\u001b[1;32m    546\u001b[0m         \u001b[0mself\u001b[0m\u001b[0;34m.\u001b[0m\u001b[0m_cond\u001b[0m \u001b[0;34m=\u001b[0m \u001b[0mCondition\u001b[0m\u001b[0;34m(\u001b[0m\u001b[0mLock\u001b[0m\u001b[0;34m(\u001b[0m\u001b[0;34m)\u001b[0m\u001b[0;34m)\u001b[0m\u001b[0;34m\u001b[0m\u001b[0;34m\u001b[0m\u001b[0m\n\u001b[1;32m    547\u001b[0m         \u001b[0mself\u001b[0m\u001b[0;34m.\u001b[0m\u001b[0m_flag\u001b[0m \u001b[0;34m=\u001b[0m \u001b[0;32mFalse\u001b[0m\u001b[0;34m\u001b[0m\u001b[0;34m\u001b[0m\u001b[0m\n",
            "\u001b[0;31mKeyboardInterrupt\u001b[0m: "
          ]
        }
      ]
    },
    {
      "cell_type": "code",
      "source": [
        "import fasttext"
      ],
      "metadata": {
        "id": "qPa0_NQQgpLI"
      },
      "execution_count": null,
      "outputs": []
    },
    {
      "cell_type": "code",
      "source": [
        "model_en = fasttext.load_model('cc.en.300.bin')"
      ],
      "metadata": {
        "id": "TmTs0KWwnsf6"
      },
      "execution_count": null,
      "outputs": []
    },
    {
      "cell_type": "code",
      "source": [
        "model_en.get_nearest_neighbors('ferrari')"
      ],
      "metadata": {
        "colab": {
          "base_uri": "https://localhost:8080/"
        },
        "id": "Fk3kGFMqnwLx",
        "outputId": "aee25c33-c53f-4ad4-acf8-8acd970d1cc5"
      },
      "execution_count": null,
      "outputs": [
        {
          "output_type": "execute_result",
          "data": {
            "text/plain": [
              "[(0.7545059323310852, 'ferarri'),\n",
              " (0.7487319707870483, 'f430'),\n",
              " (0.7342216372489929, 'lamborghini'),\n",
              " (0.7308186292648315, 'Ferrari'),\n",
              " (0.7141172885894775, 'ferraris'),\n",
              " (0.7082462906837463, 'maserati'),\n",
              " (0.6967046856880188, 'lambo'),\n",
              " (0.6924090385437012, 'Ferarri'),\n",
              " (0.6863576173782349, 'scuderia'),\n",
              " (0.6792912483215332, 'mclaren')]"
            ]
          },
          "metadata": {},
          "execution_count": 9
        }
      ]
    },
    {
      "cell_type": "code",
      "source": [
        "model_en.get_word_vector('good')"
      ],
      "metadata": {
        "colab": {
          "base_uri": "https://localhost:8080/"
        },
        "id": "7_wQFWDnuMC7",
        "outputId": "c5051871-1122-4242-92d0-a79efee8b928"
      },
      "execution_count": null,
      "outputs": [
        {
          "output_type": "execute_result",
          "data": {
            "text/plain": [
              "array([-0.09213716, -0.0634383 ,  0.00173813,  0.13524324, -0.06561062,\n",
              "        0.00619071,  0.12609869, -0.01646539,  0.0174491 , -0.00126792,\n",
              "       -0.09709831,  0.02329333,  0.00996784,  0.00463419,  0.01587938,\n",
              "        0.00689824,  0.08575399, -0.01988525, -0.0601579 , -0.02327966,\n",
              "        0.01183712,  0.08217917,  0.01488847,  0.00902181,  0.00696296,\n",
              "       -0.06426616,  0.03345198, -0.02101481,  0.06767873,  0.03022419,\n",
              "        0.07203474, -0.05689922, -0.04370377,  0.00642597,  0.0439174 ,\n",
              "        0.0604848 , -0.00611545, -0.12256738, -0.03530414, -0.02696739,\n",
              "       -0.02058216,  0.00752347, -0.00686451,  0.0362783 , -0.03308735,\n",
              "        0.05801626,  0.00832448, -0.06336953, -0.05775082,  0.01089846,\n",
              "       -0.0925179 ,  0.01559984, -0.04079024,  0.0066871 , -0.06374165,\n",
              "        0.05881973,  0.07209535, -0.05387195, -0.14658651, -0.04046486,\n",
              "       -0.02507038, -0.04954465, -0.05224417, -0.06846938,  0.0467079 ,\n",
              "        0.00459271, -0.07522177,  0.03627685, -0.0698283 ,  0.0174791 ,\n",
              "       -0.03427085, -0.043176  ,  0.00764059,  0.05694873,  0.0064466 ,\n",
              "       -0.01078498,  0.02328758,  0.06951396,  0.05373847,  0.02533235,\n",
              "        0.04307906, -0.03298698, -0.01265992,  0.02883131,  0.01145704,\n",
              "       -0.03029559,  0.02814867,  0.09258693,  0.08908885,  0.21924517,\n",
              "        0.03836972,  0.05020344,  0.13716629, -0.00859585, -0.0113667 ,\n",
              "        0.10641211, -0.07889125,  0.08034115, -0.00441031, -0.04873084,\n",
              "        0.00183913,  0.06675661,  0.00995041,  0.03010932, -0.02987454,\n",
              "        0.02509423, -0.04333989, -0.0059728 , -0.00332469, -0.0522663 ,\n",
              "       -0.03281598,  0.12006998,  0.01166376, -0.03454734,  0.01907663,\n",
              "       -0.01262398, -0.02025696,  0.01866139,  0.05016267,  0.05604192,\n",
              "        0.04971652,  0.03597424, -0.00690809,  0.05734055,  0.05945349,\n",
              "        0.0261135 ,  0.01734888, -0.00711455, -0.1295353 ,  0.01600225,\n",
              "        0.00150194, -0.03631282, -0.00469453,  0.02215887, -0.00699799,\n",
              "       -0.02894606,  0.03908806,  0.0401371 , -0.03941151, -0.02646147,\n",
              "       -0.04718655,  0.02674983,  0.07485171,  0.03144611, -0.07028159,\n",
              "       -0.0424196 , -0.2054326 , -0.09083363, -0.01121964,  0.05520659,\n",
              "       -0.11916859,  0.00788128, -0.13444994, -0.01488061, -0.02091767,\n",
              "        0.09262317,  0.06291065, -0.02200251, -0.03655258,  0.02587264,\n",
              "        0.0447952 , -0.01287306, -0.0350248 , -0.02456109, -0.04746678,\n",
              "        0.00130645,  0.01147217, -0.00531678,  0.11162786,  0.0253936 ,\n",
              "       -0.03638908, -0.05931935, -0.00549408,  0.0074574 , -0.01289796,\n",
              "       -0.0719263 , -0.02486867, -0.04750141,  0.00194147, -0.1141203 ,\n",
              "        0.01648522,  0.05083858, -0.02679086, -0.04766015,  0.00518819,\n",
              "        0.04099732,  0.02709844, -0.06511603, -0.06652133, -0.07979076,\n",
              "        0.0491582 ,  0.05377757,  0.0200878 , -0.03799915, -0.02513728,\n",
              "        0.00410288, -0.04514588, -0.04708159, -0.00559349,  0.13073431,\n",
              "       -0.09549722,  0.16606593,  0.0221815 , -0.05887613, -0.02126267,\n",
              "        0.00425452, -0.05540022, -0.06286709, -0.05455609,  0.11610305,\n",
              "        0.12443443, -0.00741135,  0.01761745, -0.0075937 , -0.05616794,\n",
              "       -0.01676267,  0.07975771, -0.04046471,  0.07211975,  0.13321361,\n",
              "        0.07106   , -0.01443719,  0.02562447,  0.05690589, -0.0090815 ,\n",
              "       -0.00628489,  0.03647495,  0.00689165,  0.04463093,  0.01837448,\n",
              "        0.00218417, -0.02093561,  0.07896647, -0.05610979,  0.02535573,\n",
              "       -0.09674191, -0.03684152,  0.01628419,  0.00908958, -0.06135098,\n",
              "        0.05458912, -0.03850613,  0.03017449, -0.1417458 ,  0.17130415,\n",
              "       -0.05436675, -0.01079106,  0.04692602, -0.02894384, -0.0273016 ,\n",
              "        0.09735578, -0.13424474, -0.02024667, -0.04736632, -0.03244197,\n",
              "        0.00541304, -0.04343438, -0.0003211 ,  0.16816942,  0.03105447,\n",
              "       -0.03063404, -0.00045107,  0.04690041,  0.11270425, -0.13718411,\n",
              "        0.05740229,  0.00801181, -0.17329559,  0.03051268, -0.1268264 ,\n",
              "       -0.06074513, -0.03838078, -0.01737073,  0.12296247, -0.05316308,\n",
              "       -0.07613882,  0.02129988,  0.0121702 , -0.01287838,  0.0768657 ,\n",
              "       -0.26769733,  0.05321693, -0.12607867, -0.02812696,  0.07982896,\n",
              "       -0.02915069, -0.01767069, -0.10350563, -0.0471432 , -0.03033449,\n",
              "        0.08542065,  0.02928957, -0.11185424, -0.00142424,  0.0379483 ,\n",
              "        0.02438426, -0.01398861,  0.14165413, -0.05115522, -0.08859383],\n",
              "      dtype=float32)"
            ]
          },
          "metadata": {},
          "execution_count": 10
        }
      ]
    },
    {
      "cell_type": "code",
      "source": [
        "model_en.get_analogies('berlin', 'germany', 'india')"
      ],
      "metadata": {
        "colab": {
          "base_uri": "https://localhost:8080/"
        },
        "id": "IDzIQJiRxRQa",
        "outputId": "cf9dd54e-c3ed-4313-cac0-9d4ba3da8ba8"
      },
      "execution_count": null,
      "outputs": [
        {
          "output_type": "execute_result",
          "data": {
            "text/plain": [
              "[(0.7148876190185547, 'delhi'),\n",
              " (0.6974374055862427, 'mumbai'),\n",
              " (0.648612916469574, 'jaipur'),\n",
              " (0.6349966526031494, 'kolkata'),\n",
              " (0.6279922723770142, 'pune'),\n",
              " (0.6277596354484558, 'bangalore'),\n",
              " (0.6044078469276428, 'hyderabad'),\n",
              " (0.6021745800971985, 'noida'),\n",
              " (0.6018899083137512, 'bhubaneswar'),\n",
              " (0.599077582359314, 'nashik')]"
            ]
          },
          "metadata": {},
          "execution_count": 11
        }
      ]
    },
    {
      "cell_type": "code",
      "source": [
        "model_en.get_analogies('driving', 'car', 'book')"
      ],
      "metadata": {
        "colab": {
          "base_uri": "https://localhost:8080/"
        },
        "id": "Dl7DZW6ezCzD",
        "outputId": "8de18d2f-325d-4966-dbae-1be680b48612"
      },
      "execution_count": null,
      "outputs": [
        {
          "output_type": "execute_result",
          "data": {
            "text/plain": [
              "[(0.5302355885505676, 'reading'),\n",
              " (0.517051637172699, 'book.I'),\n",
              " (0.5137901306152344, 'book--and'),\n",
              " (0.5090512633323669, 'book.That'),\n",
              " (0.5005884766578674, 'book--it'),\n",
              " (0.49395182728767395, 'book--I'),\n",
              " (0.49293914437294006, 're-reading'),\n",
              " (0.49156999588012695, 'book.This'),\n",
              " (0.49107635021209717, 'reading--and'),\n",
              " (0.48960915207862854, 'book--the')]"
            ]
          },
          "metadata": {},
          "execution_count": 12
        }
      ]
    },
    {
      "cell_type": "code",
      "source": [
        "model_en.get_nearest_neighbors('halwa')"
      ],
      "metadata": {
        "id": "jPDLVakk0eNK",
        "colab": {
          "base_uri": "https://localhost:8080/"
        },
        "outputId": "e155c1f1-6d20-4b58-aafe-9ac344ebc02a"
      },
      "execution_count": null,
      "outputs": [
        {
          "output_type": "execute_result",
          "data": {
            "text/plain": [
              "[(0.8563978672027588, 'kheer'),\n",
              " (0.8392286896705627, 'burfi'),\n",
              " (0.8193163871765137, 'Halwa'),\n",
              " (0.7894062995910645, 'kesari'),\n",
              " (0.778471827507019, 'payasam'),\n",
              " (0.7706475853919983, 'burfis'),\n",
              " (0.7590622901916504, 'laddoo'),\n",
              " (0.7504664659500122, 'ladoo'),\n",
              " (0.7471016645431519, 'rabdi'),\n",
              " (0.7396334409713745, 'laddu')]"
            ]
          },
          "metadata": {},
          "execution_count": 13
        }
      ]
    },
    {
      "cell_type": "code",
      "source": [
        "model_en.get_nearest_neighbors('halwa', k=3)"
      ],
      "metadata": {
        "colab": {
          "base_uri": "https://localhost:8080/"
        },
        "id": "aXr6tVHl37KF",
        "outputId": "b67fe29d-6e1a-46e3-dc25-ea7bc389786c"
      },
      "execution_count": null,
      "outputs": [
        {
          "output_type": "execute_result",
          "data": {
            "text/plain": [
              "[(0.8563978672027588, 'kheer'),\n",
              " (0.8392286896705627, 'burfi'),\n",
              " (0.8193163871765137, 'Halwa')]"
            ]
          },
          "metadata": {},
          "execution_count": 14
        }
      ]
    },
    {
      "cell_type": "code",
      "source": [
        "import pandas as pd"
      ],
      "metadata": {
        "id": "-9NrkTnZ5LaO"
      },
      "execution_count": 4,
      "outputs": []
    },
    {
      "cell_type": "code",
      "source": [
        "import numpy as  np"
      ],
      "metadata": {
        "id": "2znD24l95mEk"
      },
      "execution_count": 5,
      "outputs": []
    },
    {
      "cell_type": "code",
      "source": [
        "df = pd.read_csv('Cleaned_Indian_Food_Dataset.csv')\n",
        "df.head(3)"
      ],
      "metadata": {
        "colab": {
          "base_uri": "https://localhost:8080/",
          "height": 346
        },
        "id": "m1GzClcx5ojs",
        "outputId": "43d1ee1b-d133-4a6a-cab9-30b6665cedf9"
      },
      "execution_count": 7,
      "outputs": [
        {
          "output_type": "execute_result",
          "data": {
            "text/plain": [
              "                                TranslatedRecipeName  \\\n",
              "0                               Masala Karela Recipe   \n",
              "1                         Spicy Tomato Rice (Recipe)   \n",
              "2  Ragi Semiya Upma Recipe - Ragi Millet Vermicel...   \n",
              "\n",
              "                               TranslatedIngredients  TotalTimeInMins  \\\n",
              "0  1 tablespoon Red Chilli powder,3 tablespoon Gr...               45   \n",
              "1   2 teaspoon cashew - or peanuts, 1/2 Teaspoon ...               15   \n",
              "2  1 Onion - sliced,1 teaspoon White Urad Dal (Sp...               50   \n",
              "\n",
              "                Cuisine                             TranslatedInstructions  \\\n",
              "0                Indian  To begin making the Masala Karela Recipe,de-se...   \n",
              "1  South Indian Recipes  To make tomato puliogere, first cut the tomato...   \n",
              "2  South Indian Recipes  To begin making the Ragi Vermicelli Recipe, fi...   \n",
              "\n",
              "                                                 URL  \\\n",
              "0  https://www.archanaskitchen.com/masala-karela-...   \n",
              "1  https://www.archanaskitchen.com/spicy-tomato-r...   \n",
              "2  https://www.archanaskitchen.com/ragi-vermicell...   \n",
              "\n",
              "                                 Cleaned-Ingredients  \\\n",
              "0  salt,amchur (dry mango powder),karela (bitter ...   \n",
              "1  tomato,salt,chickpea lentils,green chilli,rice...   \n",
              "2  salt,rice vermicelli noodles (thin),asafoetida...   \n",
              "\n",
              "                                           image-url  Ingredient-count  \n",
              "0  https://www.archanaskitchen.com/images/archana...                10  \n",
              "1  https://www.archanaskitchen.com/images/archana...                12  \n",
              "2  https://www.archanaskitchen.com/images/archana...                12  "
            ],
            "text/html": [
              "\n",
              "  <div id=\"df-6012bffd-ebfb-49e0-a8ae-b28073d1ec82\">\n",
              "    <div class=\"colab-df-container\">\n",
              "      <div>\n",
              "<style scoped>\n",
              "    .dataframe tbody tr th:only-of-type {\n",
              "        vertical-align: middle;\n",
              "    }\n",
              "\n",
              "    .dataframe tbody tr th {\n",
              "        vertical-align: top;\n",
              "    }\n",
              "\n",
              "    .dataframe thead th {\n",
              "        text-align: right;\n",
              "    }\n",
              "</style>\n",
              "<table border=\"1\" class=\"dataframe\">\n",
              "  <thead>\n",
              "    <tr style=\"text-align: right;\">\n",
              "      <th></th>\n",
              "      <th>TranslatedRecipeName</th>\n",
              "      <th>TranslatedIngredients</th>\n",
              "      <th>TotalTimeInMins</th>\n",
              "      <th>Cuisine</th>\n",
              "      <th>TranslatedInstructions</th>\n",
              "      <th>URL</th>\n",
              "      <th>Cleaned-Ingredients</th>\n",
              "      <th>image-url</th>\n",
              "      <th>Ingredient-count</th>\n",
              "    </tr>\n",
              "  </thead>\n",
              "  <tbody>\n",
              "    <tr>\n",
              "      <th>0</th>\n",
              "      <td>Masala Karela Recipe</td>\n",
              "      <td>1 tablespoon Red Chilli powder,3 tablespoon Gr...</td>\n",
              "      <td>45</td>\n",
              "      <td>Indian</td>\n",
              "      <td>To begin making the Masala Karela Recipe,de-se...</td>\n",
              "      <td>https://www.archanaskitchen.com/masala-karela-...</td>\n",
              "      <td>salt,amchur (dry mango powder),karela (bitter ...</td>\n",
              "      <td>https://www.archanaskitchen.com/images/archana...</td>\n",
              "      <td>10</td>\n",
              "    </tr>\n",
              "    <tr>\n",
              "      <th>1</th>\n",
              "      <td>Spicy Tomato Rice (Recipe)</td>\n",
              "      <td>2 teaspoon cashew - or peanuts, 1/2 Teaspoon ...</td>\n",
              "      <td>15</td>\n",
              "      <td>South Indian Recipes</td>\n",
              "      <td>To make tomato puliogere, first cut the tomato...</td>\n",
              "      <td>https://www.archanaskitchen.com/spicy-tomato-r...</td>\n",
              "      <td>tomato,salt,chickpea lentils,green chilli,rice...</td>\n",
              "      <td>https://www.archanaskitchen.com/images/archana...</td>\n",
              "      <td>12</td>\n",
              "    </tr>\n",
              "    <tr>\n",
              "      <th>2</th>\n",
              "      <td>Ragi Semiya Upma Recipe - Ragi Millet Vermicel...</td>\n",
              "      <td>1 Onion - sliced,1 teaspoon White Urad Dal (Sp...</td>\n",
              "      <td>50</td>\n",
              "      <td>South Indian Recipes</td>\n",
              "      <td>To begin making the Ragi Vermicelli Recipe, fi...</td>\n",
              "      <td>https://www.archanaskitchen.com/ragi-vermicell...</td>\n",
              "      <td>salt,rice vermicelli noodles (thin),asafoetida...</td>\n",
              "      <td>https://www.archanaskitchen.com/images/archana...</td>\n",
              "      <td>12</td>\n",
              "    </tr>\n",
              "  </tbody>\n",
              "</table>\n",
              "</div>\n",
              "      <button class=\"colab-df-convert\" onclick=\"convertToInteractive('df-6012bffd-ebfb-49e0-a8ae-b28073d1ec82')\"\n",
              "              title=\"Convert this dataframe to an interactive table.\"\n",
              "              style=\"display:none;\">\n",
              "        \n",
              "  <svg xmlns=\"http://www.w3.org/2000/svg\" height=\"24px\"viewBox=\"0 0 24 24\"\n",
              "       width=\"24px\">\n",
              "    <path d=\"M0 0h24v24H0V0z\" fill=\"none\"/>\n",
              "    <path d=\"M18.56 5.44l.94 2.06.94-2.06 2.06-.94-2.06-.94-.94-2.06-.94 2.06-2.06.94zm-11 1L8.5 8.5l.94-2.06 2.06-.94-2.06-.94L8.5 2.5l-.94 2.06-2.06.94zm10 10l.94 2.06.94-2.06 2.06-.94-2.06-.94-.94-2.06-.94 2.06-2.06.94z\"/><path d=\"M17.41 7.96l-1.37-1.37c-.4-.4-.92-.59-1.43-.59-.52 0-1.04.2-1.43.59L10.3 9.45l-7.72 7.72c-.78.78-.78 2.05 0 2.83L4 21.41c.39.39.9.59 1.41.59.51 0 1.02-.2 1.41-.59l7.78-7.78 2.81-2.81c.8-.78.8-2.07 0-2.86zM5.41 20L4 18.59l7.72-7.72 1.47 1.35L5.41 20z\"/>\n",
              "  </svg>\n",
              "      </button>\n",
              "      \n",
              "  <style>\n",
              "    .colab-df-container {\n",
              "      display:flex;\n",
              "      flex-wrap:wrap;\n",
              "      gap: 12px;\n",
              "    }\n",
              "\n",
              "    .colab-df-convert {\n",
              "      background-color: #E8F0FE;\n",
              "      border: none;\n",
              "      border-radius: 50%;\n",
              "      cursor: pointer;\n",
              "      display: none;\n",
              "      fill: #1967D2;\n",
              "      height: 32px;\n",
              "      padding: 0 0 0 0;\n",
              "      width: 32px;\n",
              "    }\n",
              "\n",
              "    .colab-df-convert:hover {\n",
              "      background-color: #E2EBFA;\n",
              "      box-shadow: 0px 1px 2px rgba(60, 64, 67, 0.3), 0px 1px 3px 1px rgba(60, 64, 67, 0.15);\n",
              "      fill: #174EA6;\n",
              "    }\n",
              "\n",
              "    [theme=dark] .colab-df-convert {\n",
              "      background-color: #3B4455;\n",
              "      fill: #D2E3FC;\n",
              "    }\n",
              "\n",
              "    [theme=dark] .colab-df-convert:hover {\n",
              "      background-color: #434B5C;\n",
              "      box-shadow: 0px 1px 3px 1px rgba(0, 0, 0, 0.15);\n",
              "      filter: drop-shadow(0px 1px 2px rgba(0, 0, 0, 0.3));\n",
              "      fill: #FFFFFF;\n",
              "    }\n",
              "  </style>\n",
              "\n",
              "      <script>\n",
              "        const buttonEl =\n",
              "          document.querySelector('#df-6012bffd-ebfb-49e0-a8ae-b28073d1ec82 button.colab-df-convert');\n",
              "        buttonEl.style.display =\n",
              "          google.colab.kernel.accessAllowed ? 'block' : 'none';\n",
              "\n",
              "        async function convertToInteractive(key) {\n",
              "          const element = document.querySelector('#df-6012bffd-ebfb-49e0-a8ae-b28073d1ec82');\n",
              "          const dataTable =\n",
              "            await google.colab.kernel.invokeFunction('convertToInteractive',\n",
              "                                                     [key], {});\n",
              "          if (!dataTable) return;\n",
              "\n",
              "          const docLinkHtml = 'Like what you see? Visit the ' +\n",
              "            '<a target=\"_blank\" href=https://colab.research.google.com/notebooks/data_table.ipynb>data table notebook</a>'\n",
              "            + ' to learn more about interactive tables.';\n",
              "          element.innerHTML = '';\n",
              "          dataTable['output_type'] = 'display_data';\n",
              "          await google.colab.output.renderOutput(dataTable, element);\n",
              "          const docLink = document.createElement('div');\n",
              "          docLink.innerHTML = docLinkHtml;\n",
              "          element.appendChild(docLink);\n",
              "        }\n",
              "      </script>\n",
              "    </div>\n",
              "  </div>\n",
              "  "
            ]
          },
          "metadata": {},
          "execution_count": 7
        }
      ]
    },
    {
      "cell_type": "code",
      "source": [
        "text = df.TranslatedInstructions[0]\n",
        "text"
      ],
      "metadata": {
        "colab": {
          "base_uri": "https://localhost:8080/",
          "height": 157
        },
        "id": "HRkJAxpF5x1s",
        "outputId": "07d82394-b020-431e-b80c-262e4c749891"
      },
      "execution_count": 8,
      "outputs": [
        {
          "output_type": "execute_result",
          "data": {
            "text/plain": [
              "'To begin making the Masala Karela Recipe,de-seed the karela and slice.\\nDo not remove the skin as the skin has all the nutrients.\\nAdd the karela to the pressure cooker with 3 tablespoon of water, salt and turmeric powder and pressure cook for three whistles.\\nRelease the pressure immediately and open the lids.\\nKeep aside.Heat oil in a heavy bottomed pan or a kadhai.\\nAdd cumin seeds and let it sizzle.Once the cumin seeds have sizzled, add onions and saute them till it turns golden brown in color.Add the karela, red chilli powder, amchur powder, coriander powder and besan.\\nStir to combine the masalas into the karela.Drizzle a little extra oil on the top and mix again.\\nCover the pan and simmer Masala Karela stirring occasionally until everything comes together well.\\nTurn off the heat.Transfer Masala Karela into a serving bowl and serve.Serve Masala Karela along with Panchmel Dal and Phulka for a weekday meal with your family.\\n'"
            ],
            "application/vnd.google.colaboratory.intrinsic+json": {
              "type": "string"
            }
          },
          "metadata": {},
          "execution_count": 8
        }
      ]
    },
    {
      "cell_type": "code",
      "source": [
        "import regex as re"
      ],
      "metadata": {
        "id": "UyWxgv9mAQ4v"
      },
      "execution_count": 9,
      "outputs": []
    },
    {
      "cell_type": "code",
      "source": [
        "re.sub(r'[^\\w\\s]', ' ', text, flags = re.MULTILINE)"
      ],
      "metadata": {
        "colab": {
          "base_uri": "https://localhost:8080/",
          "height": 157
        },
        "id": "qoENMiFHBZql",
        "outputId": "fad5f861-bbc7-4de9-9a17-089f47ac2039"
      },
      "execution_count": 10,
      "outputs": [
        {
          "output_type": "execute_result",
          "data": {
            "text/plain": [
              "'To begin making the Masala Karela Recipe de seed the karela and slice \\nDo not remove the skin as the skin has all the nutrients \\nAdd the karela to the pressure cooker with 3 tablespoon of water  salt and turmeric powder and pressure cook for three whistles \\nRelease the pressure immediately and open the lids \\nKeep aside Heat oil in a heavy bottomed pan or a kadhai \\nAdd cumin seeds and let it sizzle Once the cumin seeds have sizzled  add onions and saute them till it turns golden brown in color Add the karela  red chilli powder  amchur powder  coriander powder and besan \\nStir to combine the masalas into the karela Drizzle a little extra oil on the top and mix again \\nCover the pan and simmer Masala Karela stirring occasionally until everything comes together well \\nTurn off the heat Transfer Masala Karela into a serving bowl and serve Serve Masala Karela along with Panchmel Dal and Phulka for a weekday meal with your family \\n'"
            ],
            "application/vnd.google.colaboratory.intrinsic+json": {
              "type": "string"
            }
          },
          "metadata": {},
          "execution_count": 10
        }
      ]
    },
    {
      "cell_type": "code",
      "source": [
        "re.sub(r'[ \\n]+', \" \", text).lower()"
      ],
      "metadata": {
        "colab": {
          "base_uri": "https://localhost:8080/",
          "height": 157
        },
        "id": "YIHac48UBjus",
        "outputId": "acf5912b-0908-4bf7-e7bc-fcafbf02842b"
      },
      "execution_count": 11,
      "outputs": [
        {
          "output_type": "execute_result",
          "data": {
            "text/plain": [
              "'to begin making the masala karela recipe,de-seed the karela and slice. do not remove the skin as the skin has all the nutrients. add the karela to the pressure cooker with 3 tablespoon of water, salt and turmeric powder and pressure cook for three whistles. release the pressure immediately and open the lids. keep aside.heat oil in a heavy bottomed pan or a kadhai. add cumin seeds and let it sizzle.once the cumin seeds have sizzled, add onions and saute them till it turns golden brown in color.add the karela, red chilli powder, amchur powder, coriander powder and besan. stir to combine the masalas into the karela.drizzle a little extra oil on the top and mix again. cover the pan and simmer masala karela stirring occasionally until everything comes together well. turn off the heat.transfer masala karela into a serving bowl and serve.serve masala karela along with panchmel dal and phulka for a weekday meal with your family. '"
            ],
            "application/vnd.google.colaboratory.intrinsic+json": {
              "type": "string"
            }
          },
          "metadata": {},
          "execution_count": 11
        }
      ]
    },
    {
      "cell_type": "code",
      "source": [
        "def preprocess(text):\n",
        "  text = re.sub(r'[^\\w\\s]', ' ', text, flags = re.MULTILINE)\n",
        "  text = re.sub(r'[ \\n]+', \" \", text)\n",
        "\n",
        "  return text.strip().lower()"
      ],
      "metadata": {
        "id": "2s5Z3rp3ETFe"
      },
      "execution_count": 12,
      "outputs": []
    },
    {
      "cell_type": "code",
      "source": [
        "df.TranslatedInstructions = df.TranslatedInstructions.map(preprocess)"
      ],
      "metadata": {
        "id": "fgfjtaYzElqN"
      },
      "execution_count": 13,
      "outputs": []
    },
    {
      "cell_type": "code",
      "source": [
        "df"
      ],
      "metadata": {
        "id": "EMWFJOLmErw1",
        "outputId": "233ecce7-6cb3-41de-dac8-aff9c8bc4da7",
        "colab": {
          "base_uri": "https://localhost:8080/",
          "height": 852
        }
      },
      "execution_count": 14,
      "outputs": [
        {
          "output_type": "execute_result",
          "data": {
            "text/plain": [
              "                                   TranslatedRecipeName  \\\n",
              "0                                  Masala Karela Recipe   \n",
              "1                            Spicy Tomato Rice (Recipe)   \n",
              "2     Ragi Semiya Upma Recipe - Ragi Millet Vermicel...   \n",
              "3     Gongura Chicken Curry Recipe - Andhra Style Go...   \n",
              "4     Andhra Style Alam Pachadi Recipe - Adrak Chutn...   \n",
              "...                                                 ...   \n",
              "5933                         Saffron Paneer Peda Recipe   \n",
              "5934  Italian Arancini Rice Balls Recipe With Delici...   \n",
              "5935        Quinoa Phirnee Recipe (Quinoa Milk Pudding)   \n",
              "5936      Ullikadala Pulusu Recipe | Spring Onion Curry   \n",
              "5937  Kashmiri Style Kokur Yakhni Recipe-Chicken Coo...   \n",
              "\n",
              "                                  TranslatedIngredients  TotalTimeInMins  \\\n",
              "0     1 tablespoon Red Chilli powder,3 tablespoon Gr...               45   \n",
              "1      2 teaspoon cashew - or peanuts, 1/2 Teaspoon ...               15   \n",
              "2     1 Onion - sliced,1 teaspoon White Urad Dal (Sp...               50   \n",
              "3     1/2 teaspoon Turmeric powder (Haldi),1 tablesp...               45   \n",
              "4      oil - as per use, 1 tablespoon coriander seed...               30   \n",
              "...                                                 ...              ...   \n",
              "5933  2 teaspoons Rose water,1/2 teaspoon Ghee,2 cup...               20   \n",
              "5934  4 sprig Basil leaves - finely chopped,2 cups W...              100   \n",
              "5935  3/4 cup Sugar,2 cup Milk - vegans can substitu...               35   \n",
              "5936  1 pinch Turmeric powder (Haldi),1/2 teaspoon M...               15   \n",
              "5937  Salt - as required,3 to 4 Cloves (Laung),Ghee ...               75   \n",
              "\n",
              "                   Cuisine                             TranslatedInstructions  \\\n",
              "0                   Indian  to begin making the masala karela recipe de se...   \n",
              "1     South Indian Recipes  to make tomato puliogere first cut the tomatoe...   \n",
              "2     South Indian Recipes  to begin making the ragi vermicelli recipe fir...   \n",
              "3                   Andhra  to begin making gongura chicken curry recipe f...   \n",
              "4                   Andhra  to make andhra style alam pachadi first heat o...   \n",
              "...                    ...                                                ...   \n",
              "5933                Indian  to begin making the saffron paneer peda recipe...   \n",
              "5934       Italian Recipes  to begin making the italian arancini rice ball...   \n",
              "5935                Indian  to begin making quinoa phirnee recipe place a ...   \n",
              "5936                Andhra  to begin making ullikadala pulusu recipe sprin...   \n",
              "5937              Kashmiri  to begin making the kashmiri kokur yakhni reci...   \n",
              "\n",
              "                                                    URL  \\\n",
              "0     https://www.archanaskitchen.com/masala-karela-...   \n",
              "1     https://www.archanaskitchen.com/spicy-tomato-r...   \n",
              "2     https://www.archanaskitchen.com/ragi-vermicell...   \n",
              "3     https://www.archanaskitchen.com/gongura-chicke...   \n",
              "4     https://www.archanaskitchen.com/andhra-style-a...   \n",
              "...                                                 ...   \n",
              "5933  https://www.archanaskitchen.com/saffron-paneer...   \n",
              "5934  https://www.archanaskitchen.com/italian-aranci...   \n",
              "5935  https://www.archanaskitchen.com/quinoa-phirnee...   \n",
              "5936  https://www.archanaskitchen.com/ullikadala-pul...   \n",
              "5937  https://www.archanaskitchen.com/kashmiri-kokur...   \n",
              "\n",
              "                                    Cleaned-Ingredients  \\\n",
              "0     salt,amchur (dry mango powder),karela (bitter ...   \n",
              "1     tomato,salt,chickpea lentils,green chilli,rice...   \n",
              "2     salt,rice vermicelli noodles (thin),asafoetida...   \n",
              "3     tomato,salt,ginger,sorrel leaves (gongura),fen...   \n",
              "4     tomato,salt,ginger,red chillies,curry,asafoeti...   \n",
              "...                                                 ...   \n",
              "5933  saffron strands generous,ghee,paneer,rose wate...   \n",
              "5934  salt,gorgonzola cheese cubes,wheat bread crumb...   \n",
              "5935  ghee,milk,saffron strands,sugar,cardamom powde...   \n",
              "5936  salt,tamarind water,mustard seeds,asafoetida (...   \n",
              "5937  black cardamom (badi elaichi),salt,mustard oil...   \n",
              "\n",
              "                                              image-url  Ingredient-count  \n",
              "0     https://www.archanaskitchen.com/images/archana...                10  \n",
              "1     https://www.archanaskitchen.com/images/archana...                12  \n",
              "2     https://www.archanaskitchen.com/images/archana...                12  \n",
              "3     https://www.archanaskitchen.com/images/archana...                15  \n",
              "4     https://www.archanaskitchen.com/images/archana...                12  \n",
              "...                                                 ...               ...  \n",
              "5933  https://www.archanaskitchen.com/images/archana...                 7  \n",
              "5934  https://www.archanaskitchen.com/images/archana...                14  \n",
              "5935  https://www.archanaskitchen.com/images/archana...                 8  \n",
              "5936  https://www.archanaskitchen.com/images/archana...                13  \n",
              "5937  https://www.archanaskitchen.com/images/archana...                13  \n",
              "\n",
              "[5938 rows x 9 columns]"
            ],
            "text/html": [
              "\n",
              "  <div id=\"df-9ad3af12-b61b-443d-9081-22a7aa3e0edf\">\n",
              "    <div class=\"colab-df-container\">\n",
              "      <div>\n",
              "<style scoped>\n",
              "    .dataframe tbody tr th:only-of-type {\n",
              "        vertical-align: middle;\n",
              "    }\n",
              "\n",
              "    .dataframe tbody tr th {\n",
              "        vertical-align: top;\n",
              "    }\n",
              "\n",
              "    .dataframe thead th {\n",
              "        text-align: right;\n",
              "    }\n",
              "</style>\n",
              "<table border=\"1\" class=\"dataframe\">\n",
              "  <thead>\n",
              "    <tr style=\"text-align: right;\">\n",
              "      <th></th>\n",
              "      <th>TranslatedRecipeName</th>\n",
              "      <th>TranslatedIngredients</th>\n",
              "      <th>TotalTimeInMins</th>\n",
              "      <th>Cuisine</th>\n",
              "      <th>TranslatedInstructions</th>\n",
              "      <th>URL</th>\n",
              "      <th>Cleaned-Ingredients</th>\n",
              "      <th>image-url</th>\n",
              "      <th>Ingredient-count</th>\n",
              "    </tr>\n",
              "  </thead>\n",
              "  <tbody>\n",
              "    <tr>\n",
              "      <th>0</th>\n",
              "      <td>Masala Karela Recipe</td>\n",
              "      <td>1 tablespoon Red Chilli powder,3 tablespoon Gr...</td>\n",
              "      <td>45</td>\n",
              "      <td>Indian</td>\n",
              "      <td>to begin making the masala karela recipe de se...</td>\n",
              "      <td>https://www.archanaskitchen.com/masala-karela-...</td>\n",
              "      <td>salt,amchur (dry mango powder),karela (bitter ...</td>\n",
              "      <td>https://www.archanaskitchen.com/images/archana...</td>\n",
              "      <td>10</td>\n",
              "    </tr>\n",
              "    <tr>\n",
              "      <th>1</th>\n",
              "      <td>Spicy Tomato Rice (Recipe)</td>\n",
              "      <td>2 teaspoon cashew - or peanuts, 1/2 Teaspoon ...</td>\n",
              "      <td>15</td>\n",
              "      <td>South Indian Recipes</td>\n",
              "      <td>to make tomato puliogere first cut the tomatoe...</td>\n",
              "      <td>https://www.archanaskitchen.com/spicy-tomato-r...</td>\n",
              "      <td>tomato,salt,chickpea lentils,green chilli,rice...</td>\n",
              "      <td>https://www.archanaskitchen.com/images/archana...</td>\n",
              "      <td>12</td>\n",
              "    </tr>\n",
              "    <tr>\n",
              "      <th>2</th>\n",
              "      <td>Ragi Semiya Upma Recipe - Ragi Millet Vermicel...</td>\n",
              "      <td>1 Onion - sliced,1 teaspoon White Urad Dal (Sp...</td>\n",
              "      <td>50</td>\n",
              "      <td>South Indian Recipes</td>\n",
              "      <td>to begin making the ragi vermicelli recipe fir...</td>\n",
              "      <td>https://www.archanaskitchen.com/ragi-vermicell...</td>\n",
              "      <td>salt,rice vermicelli noodles (thin),asafoetida...</td>\n",
              "      <td>https://www.archanaskitchen.com/images/archana...</td>\n",
              "      <td>12</td>\n",
              "    </tr>\n",
              "    <tr>\n",
              "      <th>3</th>\n",
              "      <td>Gongura Chicken Curry Recipe - Andhra Style Go...</td>\n",
              "      <td>1/2 teaspoon Turmeric powder (Haldi),1 tablesp...</td>\n",
              "      <td>45</td>\n",
              "      <td>Andhra</td>\n",
              "      <td>to begin making gongura chicken curry recipe f...</td>\n",
              "      <td>https://www.archanaskitchen.com/gongura-chicke...</td>\n",
              "      <td>tomato,salt,ginger,sorrel leaves (gongura),fen...</td>\n",
              "      <td>https://www.archanaskitchen.com/images/archana...</td>\n",
              "      <td>15</td>\n",
              "    </tr>\n",
              "    <tr>\n",
              "      <th>4</th>\n",
              "      <td>Andhra Style Alam Pachadi Recipe - Adrak Chutn...</td>\n",
              "      <td>oil - as per use, 1 tablespoon coriander seed...</td>\n",
              "      <td>30</td>\n",
              "      <td>Andhra</td>\n",
              "      <td>to make andhra style alam pachadi first heat o...</td>\n",
              "      <td>https://www.archanaskitchen.com/andhra-style-a...</td>\n",
              "      <td>tomato,salt,ginger,red chillies,curry,asafoeti...</td>\n",
              "      <td>https://www.archanaskitchen.com/images/archana...</td>\n",
              "      <td>12</td>\n",
              "    </tr>\n",
              "    <tr>\n",
              "      <th>...</th>\n",
              "      <td>...</td>\n",
              "      <td>...</td>\n",
              "      <td>...</td>\n",
              "      <td>...</td>\n",
              "      <td>...</td>\n",
              "      <td>...</td>\n",
              "      <td>...</td>\n",
              "      <td>...</td>\n",
              "      <td>...</td>\n",
              "    </tr>\n",
              "    <tr>\n",
              "      <th>5933</th>\n",
              "      <td>Saffron Paneer Peda Recipe</td>\n",
              "      <td>2 teaspoons Rose water,1/2 teaspoon Ghee,2 cup...</td>\n",
              "      <td>20</td>\n",
              "      <td>Indian</td>\n",
              "      <td>to begin making the saffron paneer peda recipe...</td>\n",
              "      <td>https://www.archanaskitchen.com/saffron-paneer...</td>\n",
              "      <td>saffron strands generous,ghee,paneer,rose wate...</td>\n",
              "      <td>https://www.archanaskitchen.com/images/archana...</td>\n",
              "      <td>7</td>\n",
              "    </tr>\n",
              "    <tr>\n",
              "      <th>5934</th>\n",
              "      <td>Italian Arancini Rice Balls Recipe With Delici...</td>\n",
              "      <td>4 sprig Basil leaves - finely chopped,2 cups W...</td>\n",
              "      <td>100</td>\n",
              "      <td>Italian Recipes</td>\n",
              "      <td>to begin making the italian arancini rice ball...</td>\n",
              "      <td>https://www.archanaskitchen.com/italian-aranci...</td>\n",
              "      <td>salt,gorgonzola cheese cubes,wheat bread crumb...</td>\n",
              "      <td>https://www.archanaskitchen.com/images/archana...</td>\n",
              "      <td>14</td>\n",
              "    </tr>\n",
              "    <tr>\n",
              "      <th>5935</th>\n",
              "      <td>Quinoa Phirnee Recipe (Quinoa Milk Pudding)</td>\n",
              "      <td>3/4 cup Sugar,2 cup Milk - vegans can substitu...</td>\n",
              "      <td>35</td>\n",
              "      <td>Indian</td>\n",
              "      <td>to begin making quinoa phirnee recipe place a ...</td>\n",
              "      <td>https://www.archanaskitchen.com/quinoa-phirnee...</td>\n",
              "      <td>ghee,milk,saffron strands,sugar,cardamom powde...</td>\n",
              "      <td>https://www.archanaskitchen.com/images/archana...</td>\n",
              "      <td>8</td>\n",
              "    </tr>\n",
              "    <tr>\n",
              "      <th>5936</th>\n",
              "      <td>Ullikadala Pulusu Recipe | Spring Onion Curry</td>\n",
              "      <td>1 pinch Turmeric powder (Haldi),1/2 teaspoon M...</td>\n",
              "      <td>15</td>\n",
              "      <td>Andhra</td>\n",
              "      <td>to begin making ullikadala pulusu recipe sprin...</td>\n",
              "      <td>https://www.archanaskitchen.com/ullikadala-pul...</td>\n",
              "      <td>salt,tamarind water,mustard seeds,asafoetida (...</td>\n",
              "      <td>https://www.archanaskitchen.com/images/archana...</td>\n",
              "      <td>13</td>\n",
              "    </tr>\n",
              "    <tr>\n",
              "      <th>5937</th>\n",
              "      <td>Kashmiri Style Kokur Yakhni Recipe-Chicken Coo...</td>\n",
              "      <td>Salt - as required,3 to 4 Cloves (Laung),Ghee ...</td>\n",
              "      <td>75</td>\n",
              "      <td>Kashmiri</td>\n",
              "      <td>to begin making the kashmiri kokur yakhni reci...</td>\n",
              "      <td>https://www.archanaskitchen.com/kashmiri-kokur...</td>\n",
              "      <td>black cardamom (badi elaichi),salt,mustard oil...</td>\n",
              "      <td>https://www.archanaskitchen.com/images/archana...</td>\n",
              "      <td>13</td>\n",
              "    </tr>\n",
              "  </tbody>\n",
              "</table>\n",
              "<p>5938 rows × 9 columns</p>\n",
              "</div>\n",
              "      <button class=\"colab-df-convert\" onclick=\"convertToInteractive('df-9ad3af12-b61b-443d-9081-22a7aa3e0edf')\"\n",
              "              title=\"Convert this dataframe to an interactive table.\"\n",
              "              style=\"display:none;\">\n",
              "        \n",
              "  <svg xmlns=\"http://www.w3.org/2000/svg\" height=\"24px\"viewBox=\"0 0 24 24\"\n",
              "       width=\"24px\">\n",
              "    <path d=\"M0 0h24v24H0V0z\" fill=\"none\"/>\n",
              "    <path d=\"M18.56 5.44l.94 2.06.94-2.06 2.06-.94-2.06-.94-.94-2.06-.94 2.06-2.06.94zm-11 1L8.5 8.5l.94-2.06 2.06-.94-2.06-.94L8.5 2.5l-.94 2.06-2.06.94zm10 10l.94 2.06.94-2.06 2.06-.94-2.06-.94-.94-2.06-.94 2.06-2.06.94z\"/><path d=\"M17.41 7.96l-1.37-1.37c-.4-.4-.92-.59-1.43-.59-.52 0-1.04.2-1.43.59L10.3 9.45l-7.72 7.72c-.78.78-.78 2.05 0 2.83L4 21.41c.39.39.9.59 1.41.59.51 0 1.02-.2 1.41-.59l7.78-7.78 2.81-2.81c.8-.78.8-2.07 0-2.86zM5.41 20L4 18.59l7.72-7.72 1.47 1.35L5.41 20z\"/>\n",
              "  </svg>\n",
              "      </button>\n",
              "      \n",
              "  <style>\n",
              "    .colab-df-container {\n",
              "      display:flex;\n",
              "      flex-wrap:wrap;\n",
              "      gap: 12px;\n",
              "    }\n",
              "\n",
              "    .colab-df-convert {\n",
              "      background-color: #E8F0FE;\n",
              "      border: none;\n",
              "      border-radius: 50%;\n",
              "      cursor: pointer;\n",
              "      display: none;\n",
              "      fill: #1967D2;\n",
              "      height: 32px;\n",
              "      padding: 0 0 0 0;\n",
              "      width: 32px;\n",
              "    }\n",
              "\n",
              "    .colab-df-convert:hover {\n",
              "      background-color: #E2EBFA;\n",
              "      box-shadow: 0px 1px 2px rgba(60, 64, 67, 0.3), 0px 1px 3px 1px rgba(60, 64, 67, 0.15);\n",
              "      fill: #174EA6;\n",
              "    }\n",
              "\n",
              "    [theme=dark] .colab-df-convert {\n",
              "      background-color: #3B4455;\n",
              "      fill: #D2E3FC;\n",
              "    }\n",
              "\n",
              "    [theme=dark] .colab-df-convert:hover {\n",
              "      background-color: #434B5C;\n",
              "      box-shadow: 0px 1px 3px 1px rgba(0, 0, 0, 0.15);\n",
              "      filter: drop-shadow(0px 1px 2px rgba(0, 0, 0, 0.3));\n",
              "      fill: #FFFFFF;\n",
              "    }\n",
              "  </style>\n",
              "\n",
              "      <script>\n",
              "        const buttonEl =\n",
              "          document.querySelector('#df-9ad3af12-b61b-443d-9081-22a7aa3e0edf button.colab-df-convert');\n",
              "        buttonEl.style.display =\n",
              "          google.colab.kernel.accessAllowed ? 'block' : 'none';\n",
              "\n",
              "        async function convertToInteractive(key) {\n",
              "          const element = document.querySelector('#df-9ad3af12-b61b-443d-9081-22a7aa3e0edf');\n",
              "          const dataTable =\n",
              "            await google.colab.kernel.invokeFunction('convertToInteractive',\n",
              "                                                     [key], {});\n",
              "          if (!dataTable) return;\n",
              "\n",
              "          const docLinkHtml = 'Like what you see? Visit the ' +\n",
              "            '<a target=\"_blank\" href=https://colab.research.google.com/notebooks/data_table.ipynb>data table notebook</a>'\n",
              "            + ' to learn more about interactive tables.';\n",
              "          element.innerHTML = '';\n",
              "          dataTable['output_type'] = 'display_data';\n",
              "          await google.colab.output.renderOutput(dataTable, element);\n",
              "          const docLink = document.createElement('div');\n",
              "          docLink.innerHTML = docLinkHtml;\n",
              "          element.appendChild(docLink);\n",
              "        }\n",
              "      </script>\n",
              "    </div>\n",
              "  </div>\n",
              "  "
            ]
          },
          "metadata": {},
          "execution_count": 14
        }
      ]
    },
    {
      "cell_type": "code",
      "source": [
        "df.to_csv(\"food_recipes.txt\", columns=[\"TranslatedInstructions\"], header = None, index= False)"
      ],
      "metadata": {
        "id": "GVsRqD_IEtjd"
      },
      "execution_count": 15,
      "outputs": []
    },
    {
      "cell_type": "code",
      "source": [
        "model = fasttext.train_unsupervised(\"food_recipes.txt\")"
      ],
      "metadata": {
        "id": "QfCEGBQz_Nvr"
      },
      "execution_count": 19,
      "outputs": []
    },
    {
      "cell_type": "code",
      "source": [
        "model.get_nearest_neighbors('dosa')"
      ],
      "metadata": {
        "colab": {
          "base_uri": "https://localhost:8080/"
        },
        "id": "NixRSocb_tH8",
        "outputId": "40a7414f-b95f-44f2-b70d-5c4ee0cd9e98"
      },
      "execution_count": 30,
      "outputs": [
        {
          "output_type": "execute_result",
          "data": {
            "text/plain": [
              "[(0.8318228721618652, 'dosai'),\n",
              " (0.816912829875946, 'dosas'),\n",
              " (0.7525014877319336, 'dose'),\n",
              " (0.7509863376617432, 'uttapam'),\n",
              " (0.725694477558136, 'uthappam'),\n",
              " (0.7049723863601685, 'kanchipuram'),\n",
              " (0.6884667277336121, 'pesarattu'),\n",
              " (0.6883455514907837, 'unniyappam'),\n",
              " (0.6863152980804443, 'appachetty'),\n",
              " (0.6784259080886841, 'appam')]"
            ]
          },
          "metadata": {},
          "execution_count": 30
        }
      ]
    },
    {
      "cell_type": "code",
      "source": [],
      "metadata": {
        "id": "uY5G7pZHAjvW"
      },
      "execution_count": null,
      "outputs": []
    }
  ]
}