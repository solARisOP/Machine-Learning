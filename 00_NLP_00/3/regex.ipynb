{
 "cells": [
  {
   "cell_type": "code",
   "execution_count": 1,
   "id": "a724aafd",
   "metadata": {},
   "outputs": [],
   "source": [
    "import re"
   ]
  },
  {
   "cell_type": "code",
   "execution_count": 6,
   "id": "2b63f977",
   "metadata": {},
   "outputs": [],
   "source": [
    "def pattern_match(pattern, text):\n",
    "    match = re.findall(pattern, text)\n",
    "    if match:\n",
    "        return match[0]"
   ]
  },
  {
   "cell_type": "code",
   "execution_count": 14,
   "id": "4b4e8986",
   "metadata": {},
   "outputs": [],
   "source": [
    "chat_1 = 'codebasics: Hello, I am having an issue with my order # 412889912'\n",
    "chat_2 = 'codebasics: I have a problem with my order number 412889912'\n",
    "chat_3 = 'codebasics: My order 412889912 is having an issue, I was charged 300$ when online it says 280$'"
   ]
  },
  {
   "cell_type": "code",
   "execution_count": 19,
   "id": "19f3f372",
   "metadata": {},
   "outputs": [
    {
     "data": {
      "text/plain": [
       "'412889912'"
      ]
     },
     "execution_count": 19,
     "metadata": {},
     "output_type": "execute_result"
    }
   ],
   "source": [
    "order = pattern_match('order[^\\d]+(\\d+)', chat_3)\n",
    "order"
   ]
  },
  {
   "cell_type": "code",
   "execution_count": 5,
   "id": "b3554526",
   "metadata": {},
   "outputs": [],
   "source": [
    "chat1 = 'codebasics: you ask lot of questions 😠  1235678912, abc@xyz.com'\n",
    "chat2 = 'codebasics: here it is: (123)-567-8912, abc@xyz.com'\n",
    "chat3 = 'codebasics: yes, phone: 1235678912 email: abc@xyz.com'"
   ]
  },
  {
   "cell_type": "code",
   "execution_count": 7,
   "id": "3b205b1a",
   "metadata": {},
   "outputs": [
    {
     "data": {
      "text/plain": [
       "'1235678912'"
      ]
     },
     "execution_count": 7,
     "metadata": {},
     "output_type": "execute_result"
    }
   ],
   "source": [
    "ph = pattern_match('\\d{10}|\\(\\d{3}\\)-\\d{3}-\\d{4}', chat1)\n",
    "ph"
   ]
  },
  {
   "cell_type": "code",
   "execution_count": 11,
   "id": "eb5de56e",
   "metadata": {},
   "outputs": [
    {
     "data": {
      "text/plain": [
       "'abc@xyz.com'"
      ]
     },
     "execution_count": 11,
     "metadata": {},
     "output_type": "execute_result"
    }
   ],
   "source": [
    "email = pattern_match('[a-zA-z0-9_]+@[a-zA-z0-9_]+\\.[a-zA-z]+', chat3) \n",
    "email"
   ]
  },
  {
   "cell_type": "code",
   "execution_count": 50,
   "id": "661ca475",
   "metadata": {},
   "outputs": [],
   "source": [
    "text = '''\n",
    "Born\tMukesh Dhirubhai Ambani\n",
    "19 April 1957 (age 65)\n",
    "Aden, Colony of Aden\n",
    "(present-day Yemen)[1][2]\n",
    "Nationality\tIndian\n",
    "Alma mater\t\n",
    "St. Xavier's College, Mumbai\n",
    "Institute of Chemical Technology (B.E.)\n",
    "Stanford University (drop-out)\n",
    "Occupation(s)\tChairman and MD, Reliance Industries\n",
    "Spouse\tNita Ambani ​(m. 1985)​[3]\n",
    "Children\t3, including Akash Ambani\n",
    "Parent\t\n",
    "Dhirubhai Ambani (father)\n",
    "Relatives\tAnil Ambani (brother)\n",
    "Tina Ambani (sister-in-law)\n",
    "'''"
   ]
  },
  {
   "cell_type": "code",
   "execution_count": 53,
   "id": "6cd0e342",
   "metadata": {},
   "outputs": [],
   "source": [
    "def get_personal_information(text):\n",
    "    age = re.findall(\"age (\\d*)\", text)[0].strip()\n",
    "    name = re.findall(\"Born(.*)\",text)[0].strip()\n",
    "    dob = re.findall(\"Born.*\\n(.*)\\(\",text)[0].strip()\n",
    "    birth_place = re.findall(\"age \\d*\\)\\n(.*)\",text)[0].strip()\n",
    "    \n",
    "    return {\n",
    "        'age' : age,\n",
    "        'name' : name,\n",
    "        'dob' : dob,\n",
    "        'birth_place' : birth_place\n",
    "    }    "
   ]
  },
  {
   "cell_type": "code",
   "execution_count": 54,
   "id": "5bd38085",
   "metadata": {},
   "outputs": [
    {
     "data": {
      "text/plain": [
       "{'age': '65',\n",
       " 'name': 'Mukesh Dhirubhai Ambani',\n",
       " 'dob': '19 April 1957',\n",
       " 'birth_place': 'Aden, Colony of Aden'}"
      ]
     },
     "execution_count": 54,
     "metadata": {},
     "output_type": "execute_result"
    }
   ],
   "source": [
    "get_personal_information(text)"
   ]
  },
  {
   "cell_type": "code",
   "execution_count": null,
   "id": "01e8edd0",
   "metadata": {},
   "outputs": [],
   "source": []
  }
 ],
 "metadata": {
  "kernelspec": {
   "display_name": "Python 3 (ipykernel)",
   "language": "python",
   "name": "python3"
  },
  "language_info": {
   "codemirror_mode": {
    "name": "ipython",
    "version": 3
   },
   "file_extension": ".py",
   "mimetype": "text/x-python",
   "name": "python",
   "nbconvert_exporter": "python",
   "pygments_lexer": "ipython3",
   "version": "3.10.9"
  }
 },
 "nbformat": 4,
 "nbformat_minor": 5
}
