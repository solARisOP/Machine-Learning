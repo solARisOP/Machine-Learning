{
 "cells": [
  {
   "cell_type": "code",
   "execution_count": 1,
   "id": "49f9a1e7",
   "metadata": {},
   "outputs": [],
   "source": [
    "import numpy as np \n",
    "import pandas as pd\n",
    "from sklearn.ensemble import RandomForestClassifier\n",
    "from sklearn.svm import SVC\n",
    "from sklearn.linear_model import LogisticRegression\n",
    "from sklearn.datasets import load_digits\n",
    "\n",
    "digits = load_digits()"
   ]
  },
  {
   "cell_type": "code",
   "execution_count": 2,
   "id": "8628b37e",
   "metadata": {},
   "outputs": [],
   "source": [
    "from sklearn.model_selection import train_test_split as tts\n",
    "X_train, X_test, y_train, y_test = tts(digits.data, digits.target, test_size = 0.3)"
   ]
  },
  {
   "cell_type": "code",
   "execution_count": 3,
   "id": "1279e627",
   "metadata": {},
   "outputs": [],
   "source": [
    "def get_score(model, X_train, X_test, y_train, y_test):\n",
    "    model.fit(X_train, y_train)\n",
    "    return model.score(X_test, y_test)"
   ]
  },
  {
   "cell_type": "code",
   "execution_count": 4,
   "id": "7a1f32e7",
   "metadata": {},
   "outputs": [
    {
     "data": {
      "text/plain": [
       "0.9722222222222222"
      ]
     },
     "execution_count": 4,
     "metadata": {},
     "output_type": "execute_result"
    }
   ],
   "source": [
    "get_score(RandomForestClassifier(), X_train, X_test, y_train, y_test)"
   ]
  },
  {
   "cell_type": "code",
   "execution_count": 5,
   "id": "4bfc2494",
   "metadata": {},
   "outputs": [
    {
     "data": {
      "text/plain": [
       "0.9851851851851852"
      ]
     },
     "execution_count": 5,
     "metadata": {},
     "output_type": "execute_result"
    }
   ],
   "source": [
    "get_score(SVC(), X_train, X_test, y_train, y_test)"
   ]
  },
  {
   "cell_type": "code",
   "execution_count": 6,
   "id": "dfae6334",
   "metadata": {},
   "outputs": [
    {
     "data": {
      "text/plain": [
       "0.9518518518518518"
      ]
     },
     "execution_count": 6,
     "metadata": {},
     "output_type": "execute_result"
    }
   ],
   "source": [
    "get_score(LogisticRegression(solver='lbfgs',class_weight='balanced', max_iter=10000), X_train, X_test, y_train, y_test)"
   ]
  },
  {
   "cell_type": "code",
   "execution_count": 7,
   "id": "fe5f5e85",
   "metadata": {},
   "outputs": [
    {
     "data": {
      "text/plain": [
       "KFold(n_splits=10, random_state=None, shuffle=False)"
      ]
     },
     "execution_count": 7,
     "metadata": {},
     "output_type": "execute_result"
    }
   ],
   "source": [
    "from sklearn.model_selection import KFold\n",
    "kf = KFold(n_splits = 10)\n",
    "kf"
   ]
  },
  {
   "cell_type": "code",
   "execution_count": 8,
   "id": "d599f126",
   "metadata": {
    "scrolled": false
   },
   "outputs": [
    {
     "name": "stdout",
     "output_type": "stream",
     "text": [
      "[1 2 3 4 5 6 7 8 9] [0]\n",
      "[0 2 3 4 5 6 7 8 9] [1]\n",
      "[0 1 3 4 5 6 7 8 9] [2]\n",
      "[0 1 2 4 5 6 7 8 9] [3]\n",
      "[0 1 2 3 5 6 7 8 9] [4]\n",
      "[0 1 2 3 4 6 7 8 9] [5]\n",
      "[0 1 2 3 4 5 7 8 9] [6]\n",
      "[0 1 2 3 4 5 6 8 9] [7]\n",
      "[0 1 2 3 4 5 6 7 9] [8]\n",
      "[0 1 2 3 4 5 6 7 8] [9]\n"
     ]
    }
   ],
   "source": [
    "for train_i, test_i in kf.split([1,2,3,4,5,6,7,8,9,10]):\n",
    "    print(train_i, test_i)"
   ]
  },
  {
   "cell_type": "code",
   "execution_count": 9,
   "id": "9f39ab7a",
   "metadata": {},
   "outputs": [],
   "source": [
    "score_l = []\n",
    "score_s = []\n",
    "score_d = []\n",
    "for train_i, test_i in kf.split(digits.data): # kf.split is a way of splitting data where train_i and test_i are splitting index arrays here.\n",
    "                                              # Like train_test_split method but in split size we assigned it \n",
    "                                              # thats why we are using loop here becuse it will return every split possible\n",
    "                                              # and the splitting size is decided by us\n",
    "            \n",
    "    X_train, X_test, y_train, y_test = digits.data[train_i], digits.data[test_i], digits.target[train_i], digits.target[test_i]  # as we know in python we can assign variables like this     \n",
    "    \n",
    "    score_l.append(get_score(LogisticRegression(solver='lbfgs',class_weight='balanced', max_iter=10000), X_train, X_test, y_train, y_test))\n",
    "    \n",
    "    score_s.append(get_score(SVC(), X_train, X_test, y_train, y_test))\n",
    "    \n",
    "    score_d.append(get_score(RandomForestClassifier(), X_train, X_test, y_train, y_test))"
   ]
  },
  {
   "cell_type": "code",
   "execution_count": 10,
   "id": "2399b8a9",
   "metadata": {},
   "outputs": [
    {
     "name": "stdout",
     "output_type": "stream",
     "text": [
      "[0.9055555555555556, 0.9611111111111111, 0.8777777777777778, 0.9611111111111111, 0.9444444444444444, 0.9611111111111111, 0.95, 0.9273743016759777, 0.8938547486033519, 0.9385474860335196]\n"
     ]
    }
   ],
   "source": [
    "print(score_l)"
   ]
  },
  {
   "cell_type": "code",
   "execution_count": 11,
   "id": "1c0b61ff",
   "metadata": {},
   "outputs": [
    {
     "name": "stdout",
     "output_type": "stream",
     "text": [
      "[0.9444444444444444, 1.0, 0.9333333333333333, 0.9833333333333333, 0.9833333333333333, 0.9888888888888889, 0.9888888888888889, 0.994413407821229, 0.9664804469273743, 0.9497206703910615]\n"
     ]
    }
   ],
   "source": [
    "print(score_s)"
   ]
  },
  {
   "cell_type": "code",
   "execution_count": 12,
   "id": "045e518c",
   "metadata": {
    "scrolled": true
   },
   "outputs": [
    {
     "name": "stdout",
     "output_type": "stream",
     "text": [
      "[0.9055555555555556, 0.9777777777777777, 0.9277777777777778, 0.9666666666666667, 0.9611111111111111, 0.9833333333333333, 0.9722222222222222, 0.9608938547486033, 0.9553072625698324, 0.9385474860335196]\n"
     ]
    }
   ],
   "source": [
    "print(score_d)"
   ]
  },
  {
   "cell_type": "code",
   "execution_count": 13,
   "id": "2cb97ed4",
   "metadata": {},
   "outputs": [
    {
     "data": {
      "text/plain": [
       "StratifiedKFold(n_splits=10, random_state=None, shuffle=False)"
      ]
     },
     "execution_count": 13,
     "metadata": {},
     "output_type": "execute_result"
    }
   ],
   "source": [
    "from sklearn.model_selection import StratifiedKFold # this split method takes care of the diff categories\n",
    "skf = StratifiedKFold(n_splits = 10)\n",
    "skf"
   ]
  },
  {
   "cell_type": "code",
   "execution_count": 14,
   "id": "e8b6f4a3",
   "metadata": {},
   "outputs": [],
   "source": [
    "score_l = []\n",
    "score_s = []\n",
    "score_d = []\n",
    "for train_i, test_i in skf.split(digits.data, digits.target):\n",
    "            \n",
    "    X_train, X_test, y_train, y_test = digits.data[train_i], digits.data[test_i], digits.target[train_i], digits.target[test_i]  \n",
    "    \n",
    "    score_l.append(get_score(LogisticRegression(solver='lbfgs',class_weight='balanced', max_iter=10000), X_train, X_test, y_train, y_test))\n",
    "    \n",
    "    score_s.append(get_score(SVC(kernel = 'linear'), X_train, X_test, y_train, y_test))\n",
    "    \n",
    "    score_d.append(get_score(RandomForestClassifier(), X_train, X_test, y_train, y_test))"
   ]
  },
  {
   "cell_type": "code",
   "execution_count": 15,
   "id": "a43ee024",
   "metadata": {},
   "outputs": [
    {
     "name": "stdout",
     "output_type": "stream",
     "text": [
      "[0.9055555555555556, 0.9555555555555556, 0.8833333333333333, 0.9333333333333333, 0.9388888888888889, 0.95, 0.95, 0.9273743016759777, 0.88268156424581, 0.9441340782122905]\n"
     ]
    }
   ],
   "source": [
    "print(score_l)"
   ]
  },
  {
   "cell_type": "code",
   "execution_count": 16,
   "id": "0b3b0baf",
   "metadata": {},
   "outputs": [
    {
     "name": "stdout",
     "output_type": "stream",
     "text": [
      "[0.9388888888888889, 0.9944444444444445, 0.9333333333333333, 0.9444444444444444, 0.9611111111111111, 0.9888888888888889, 0.9666666666666667, 0.9776536312849162, 0.9329608938547486, 0.9664804469273743]\n"
     ]
    }
   ],
   "source": [
    "print(score_s)"
   ]
  },
  {
   "cell_type": "code",
   "execution_count": 17,
   "id": "f8359c4c",
   "metadata": {},
   "outputs": [
    {
     "name": "stdout",
     "output_type": "stream",
     "text": [
      "[0.9222222222222223, 0.9777777777777777, 0.9277777777777778, 0.9166666666666666, 0.9611111111111111, 0.9722222222222222, 0.9722222222222222, 0.9664804469273743, 0.9273743016759777, 0.9385474860335196]\n"
     ]
    }
   ],
   "source": [
    "print(score_d)"
   ]
  },
  {
   "cell_type": "code",
   "execution_count": 18,
   "id": "fb633d55",
   "metadata": {},
   "outputs": [
    {
     "data": {
      "text/plain": [
       "array([0.94444444, 0.98888889, 0.92777778, 0.96666667, 0.98333333,\n",
       "       0.98888889, 0.98888889, 0.99441341, 0.96089385, 0.95530726])"
      ]
     },
     "execution_count": 18,
     "metadata": {},
     "output_type": "execute_result"
    }
   ],
   "source": [
    "# the above stratifiedkfold splitting and get_score method can simply be executed in one line i.e, this method called cross_val_score\n",
    "from sklearn.model_selection import cross_val_score\n",
    "cross_val_score(SVC(), digits.data, digits.target, cv=10    ) "
   ]
  },
  {
   "cell_type": "code",
   "execution_count": null,
   "id": "717298dd",
   "metadata": {},
   "outputs": [],
   "source": []
  }
 ],
 "metadata": {
  "kernelspec": {
   "display_name": "Python 3 (ipykernel)",
   "language": "python",
   "name": "python3"
  },
  "language_info": {
   "codemirror_mode": {
    "name": "ipython",
    "version": 3
   },
   "file_extension": ".py",
   "mimetype": "text/x-python",
   "name": "python",
   "nbconvert_exporter": "python",
   "pygments_lexer": "ipython3",
   "version": "3.10.6"
  }
 },
 "nbformat": 4,
 "nbformat_minor": 5
}
